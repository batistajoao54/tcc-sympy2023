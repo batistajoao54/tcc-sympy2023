{
 "cells": [
  {
   "cell_type": "code",
   "execution_count": 1,
   "id": "43aa032c",
   "metadata": {},
   "outputs": [
    {
     "data": {
      "image/png": "[encoded data removed]",
      "text/plain": [
       "<Figure size 640x480 with 1 Axes>"
      ]
     },
     "metadata": {},
     "output_type": "display_data"
    }
   ],
   "source": [
    "from sympy import Symbol, plot\n",
    "\n",
    "x = Symbol('x')\n",
    "expr = 1 / (x**2 + 1)\n",
    "\n",
    "plot(expr, (x, -0.5, 5.5));"
   ]
  },
  {
   "cell_type": "code",
   "execution_count": null,
   "id": "7efc64ab",
   "metadata": {},
   "outputs": [],
   "source": []
  },
  {
   "cell_type": "markdown",
   "id": "49a9a644",
   "metadata": {},
   "source": [
    "# Integrais usando sympy"
   ]
  },
  {
   "cell_type": "code",
   "execution_count": 2,
   "id": "9c888eae",
   "metadata": {},
   "outputs": [
    {
     "data": {
      "text/latex": [
       "$\\displaystyle \\frac{1}{x^{2} + 1}$"
      ],
      "text/plain": [
       "1/(x**2 + 1)"
      ]
     },
     "metadata": {},
     "output_type": "display_data"
    }
   ],
   "source": [
    "# configuração para outputs melhores no artigo, pode ser ignorado\n",
    "#from sympy import init_printing\n",
    "#init_printing(use_latex='png', scale=1.05, order='grlex',\n",
    "#              forecolor='Black', backcolor='White', fontsize=10)\n",
    "\n",
    "from sympy import integrate, Symbol, dsolve, Function, diff, Eq\n",
    "\n",
    "x = Symbol('x')\n",
    "expr = 1 / (x**2 + 1)\n",
    "\n",
    "display(expr)"
   ]
  },
  {
   "cell_type": "markdown",
   "id": "d42dbe96",
   "metadata": {},
   "source": [
    "Para obter a integral indefinida da função, basta passar sua expressão expr para a função integrate:"
   ]
  },
  {
   "cell_type": "code",
   "execution_count": 3,
   "id": "a2cfc866",
   "metadata": {},
   "outputs": [
    {
     "data": {
      "text/latex": [
       "$\\displaystyle \\operatorname{atan}{\\left(x \\right)}$"
      ],
      "text/plain": [
       "atan(x)"
      ]
     },
     "metadata": {},
     "output_type": "display_data"
    }
   ],
   "source": [
    "display(integrate(expr, x))"
   ]
  },
  {
   "cell_type": "code",
   "execution_count": 4,
   "id": "9889dd0b",
   "metadata": {},
   "outputs": [
    {
     "data": {
      "text/latex": [
       "$\\displaystyle \\frac{d}{d x} F{\\left(x \\right)} = \\frac{1}{x^{2} + 1}$"
      ],
      "text/plain": [
       "Eq(Derivative(F(x), x), 1/(x**2 + 1))"
      ]
     },
     "metadata": {},
     "output_type": "display_data"
    }
   ],
   "source": [
    "F = Function('F')\n",
    "eqdif = Eq(diff(F(x)), expr)\n",
    "display(eqdif)"
   ]
  },
  {
   "cell_type": "markdown",
   "id": "e98ffaab",
   "metadata": {},
   "source": [
    "Logo, a função que buscamos (e que é a integral desejada) é:"
   ]
  },
  {
   "cell_type": "code",
   "execution_count": 5,
   "id": "2b76a392",
   "metadata": {},
   "outputs": [
    {
     "data": {
      "text/latex": [
       "$\\displaystyle F{\\left(x \\right)} = C_{1} + \\operatorname{atan}{\\left(x \\right)}$"
      ],
      "text/plain": [
       "Eq(F(x), C1 + atan(x))"
      ]
     },
     "metadata": {},
     "output_type": "display_data"
    }
   ],
   "source": [
    "display(dsolve(eqdif, F(x)))"
   ]
  },
  {
   "cell_type": "code",
   "execution_count": null,
   "id": "95a59862",
   "metadata": {},
   "outputs": [],
   "source": []
  },
  {
   "cell_type": "markdown",
   "id": "9cc0b0da",
   "metadata": {},
   "source": [
    "E integrais definidas? Simples, passamos um segundo argumento para integrate com o símbolo da variável e o intervalo desejado:"
   ]
  },
  {
   "cell_type": "code",
   "execution_count": 6,
   "id": "e7eb40c9",
   "metadata": {},
   "outputs": [
    {
     "data": {
      "text/latex": [
       "$\\displaystyle \\operatorname{atan}{\\left(5 \\right)}$"
      ],
      "text/plain": [
       "atan(5)"
      ]
     },
     "metadata": {},
     "output_type": "display_data"
    }
   ],
   "source": [
    "display(integrate(expr, (x, 0, 5)))"
   ]
  },
  {
   "cell_type": "code",
   "execution_count": 7,
   "id": "0b6e9cad",
   "metadata": {},
   "outputs": [
    {
     "data": {
      "text/latex": [
       "$\\displaystyle 1.37340076694502$"
      ],
      "text/plain": [
       "1.37340076694502"
      ]
     },
     "metadata": {},
     "output_type": "display_data"
    }
   ],
   "source": [
    "display(integrate(expr, (x, 0, 5)).evalf())"
   ]
  },
  {
   "cell_type": "code",
   "execution_count": 11,
   "id": "4f6cf887",
   "metadata": {},
   "outputs": [
    {
     "data": {
      "text/latex": [
       "$\\displaystyle \\int F{\\left(x \\right)}\\, dx$"
      ],
      "text/plain": [
       "Integral(F(x), x)"
      ]
     },
     "metadata": {},
     "output_type": "display_data"
    }
   ],
   "source": [
    "display(integrate(F(x)))"
   ]
  },
  {
   "cell_type": "code",
   "execution_count": null,
   "id": "b98a7e72",
   "metadata": {},
   "outputs": [],
   "source": []
  },
  {
   "cell_type": "code",
   "execution_count": null,
   "id": "bd95b844",
   "metadata": {},
   "outputs": [],
   "source": []
  },
  {
   "cell_type": "code",
   "execution_count": null,
   "id": "0d5c65b3",
   "metadata": {},
   "outputs": [],
   "source": []
  },
  {
   "cell_type": "code",
   "execution_count": null,
   "id": "0d6dbd1e",
   "metadata": {},
   "outputs": [],
   "source": []
  },
  {
   "cell_type": "code",
   "execution_count": null,
   "id": "defb06e3",
   "metadata": {},
   "outputs": [],
   "source": []
  },
  {
   "cell_type": "code",
   "execution_count": null,
   "id": "464bc382",
   "metadata": {},
   "outputs": [],
   "source": []
  },
  {
   "cell_type": "code",
   "execution_count": null,
   "id": "dec99be5",
   "metadata": {},
   "outputs": [],
   "source": []
  },
  {
   "cell_type": "code",
   "execution_count": null,
   "id": "845e5f09",
   "metadata": {},
   "outputs": [],
   "source": []
  },
  {
   "cell_type": "code",
   "execution_count": null,
   "id": "919c5cee",
   "metadata": {},
   "outputs": [],
   "source": []
  }
 ],
 "metadata": {
  "kernelspec": {
   "display_name": "Python 3 (ipykernel)",
   "language": "python",
   "name": "python3"
  },
  "language_info": {
   "codemirror_mode": {
    "name": "ipython",
    "version": 3
   },
   "file_extension": ".py",
   "mimetype": "text/x-python",
   "name": "python",
   "nbconvert_exporter": "python",
   "pygments_lexer": "ipython3",
   "version": "3.9.13"
  }
 },
 "nbformat": 4,
 "nbformat_minor": 5
}
