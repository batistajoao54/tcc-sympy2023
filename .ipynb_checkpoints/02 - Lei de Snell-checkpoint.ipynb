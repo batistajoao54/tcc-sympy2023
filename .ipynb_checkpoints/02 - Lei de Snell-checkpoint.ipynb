{
 "cells": [
  {
   "cell_type": "code",
   "execution_count": 1,
   "id": "b8c7015c",
   "metadata": {},
   "outputs": [],
   "source": [
    "from sympy import *"
   ]
  },
  {
   "cell_type": "code",
   "execution_count": 22,
   "id": "edb8623f",
   "metadata": {},
   "outputs": [],
   "source": [
    "N,N1,N2,θ1,θ2,v1,v2,c,v = symbols('N,N1,N2,θ1,θ2,v1,v2,c,v')"
   ]
  },
  {
   "cell_type": "code",
   "execution_count": 36,
   "id": "adf3e9a2",
   "metadata": {
    "scrolled": false
   },
   "outputs": [
    {
     "data": {
      "text/latex": [
       "$\\displaystyle N_{1} \\sin{\\left(θ_{1} \\right)} = N_{2} \\sin{\\left(θ_{2} \\right)}$"
      ],
      "text/plain": [
       "Eq(N1*sin(θ1), N2*sin(θ2))"
      ]
     },
     "metadata": {},
     "output_type": "display_data"
    },
    {
     "data": {
      "text/latex": [
       "$\\displaystyle \\frac{\\sin{\\left(θ_{1} \\right)}}{\\sin{\\left(θ_{2} \\right)}} = \\frac{N_{2}}{N_{1}}$"
      ],
      "text/plain": [
       "Eq(sin(θ1)/sin(θ2), N2/N1)"
      ]
     },
     "metadata": {},
     "output_type": "display_data"
    },
    {
     "name": "stdout",
     "output_type": "stream",
     "text": [
      "Como:\n"
     ]
    },
    {
     "data": {
      "text/latex": [
       "$\\displaystyle N = \\frac{c}{v}$"
      ],
      "text/plain": [
       "Eq(N, c/v)"
      ]
     },
     "metadata": {},
     "output_type": "display_data"
    },
    {
     "data": {
      "text/latex": [
       "$\\displaystyle N_{1} = \\frac{c}{v_{1}}$"
      ],
      "text/plain": [
       "Eq(N1, c/v1)"
      ]
     },
     "metadata": {},
     "output_type": "display_data"
    },
    {
     "data": {
      "text/latex": [
       "$\\displaystyle N_{2} = \\frac{c}{v_{2}}$"
      ],
      "text/plain": [
       "Eq(N2, c/v2)"
      ]
     },
     "metadata": {},
     "output_type": "display_data"
    },
    {
     "name": "stdout",
     "output_type": "stream",
     "text": [
      "Então substituindo teremos:\n"
     ]
    },
    {
     "data": {
      "text/latex": [
       "$\\displaystyle \\frac{\\sin{\\left(θ_{1} \\right)}}{\\sin{\\left(θ_{2} \\right)}} = \\frac{v_{1}}{v_{2}}$"
      ],
      "text/plain": [
       "Eq(sin(θ1)/sin(θ2), v1/v2)"
      ]
     },
     "metadata": {},
     "output_type": "display_data"
    }
   ],
   "source": [
    "display(Eq(N1*sin(θ1),N2*sin(θ2)))\n",
    "\n",
    "display(Eq(sin(θ1)/sin(θ2),N2/N1))\n",
    "\n",
    "print('Como:')\n",
    "\n",
    "display(Eq(N,c/v))\n",
    "\n",
    "display(Eq(N1,c/v1))\n",
    "\n",
    "display(Eq(N2,c/v2))\n",
    "\n",
    "print('Então substituindo teremos:')\n",
    "\n",
    "display(Eq(sin(θ1)/sin(θ2), (c/v2)/(c/v1)))"
   ]
  },
  {
   "cell_type": "code",
   "execution_count": null,
   "id": "7ea508e0",
   "metadata": {},
   "outputs": [],
   "source": []
  },
  {
   "cell_type": "code",
   "execution_count": null,
   "id": "b6541474",
   "metadata": {},
   "outputs": [],
   "source": []
  },
  {
   "cell_type": "code",
   "execution_count": null,
   "id": "3de79c23",
   "metadata": {},
   "outputs": [],
   "source": []
  }
 ],
 "metadata": {
  "kernelspec": {
   "display_name": "Python 3 (ipykernel)",
   "language": "python",
   "name": "python3"
  },
  "language_info": {
   "codemirror_mode": {
    "name": "ipython",
    "version": 3
   },
   "file_extension": ".py",
   "mimetype": "text/x-python",
   "name": "python",
   "nbconvert_exporter": "python",
   "pygments_lexer": "ipython3",
   "version": "3.9.13"
  }
 },
 "nbformat": 4,
 "nbformat_minor": 5
}
