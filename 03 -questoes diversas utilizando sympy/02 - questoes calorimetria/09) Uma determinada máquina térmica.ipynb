{
 "cells": [
  {
   "cell_type": "markdown",
   "id": "cd63c832",
   "metadata": {},
   "source": [
    "09) Uma determinada máquina térmica deve operar em ciclo entre as temperaturas de 27 °C e 227\n",
    "°C. Em cada ciclo ela recebe 1000 cal da fonte quente. O máximo de trabalho que a máquina pode\n",
    "fornecer por ciclo ao exterior, em calorias, vale"
   ]
  },
  {
   "cell_type": "code",
   "execution_count": 1,
   "id": "90a08ce8",
   "metadata": {},
   "outputs": [],
   "source": [
    "from sympy import *"
   ]
  },
  {
   "cell_type": "code",
   "execution_count": 19,
   "id": "7258d2a1",
   "metadata": {},
   "outputs": [
    {
     "name": "stdout",
     "output_type": "stream",
     "text": [
      "Primeiro iremos converter as temperaturas Celsius para Kelvin\n"
     ]
    },
    {
     "data": {
      "text/latex": [
       "$\\displaystyle K = °C + 273.15$"
      ],
      "text/plain": [
       "Eq(K, °C + 273.15)"
      ]
     },
     "metadata": {},
     "output_type": "display_data"
    },
    {
     "name": "stdout",
     "output_type": "stream",
     "text": [
      "Logo...\n"
     ]
    },
    {
     "data": {
      "text/latex": [
       "$\\displaystyle 27 °C = 300.15 K$"
      ],
      "text/plain": [
       "Eq(27*°C, 300.15*K)"
      ]
     },
     "metadata": {},
     "output_type": "display_data"
    },
    {
     "data": {
      "text/latex": [
       "$\\displaystyle 227 °C = 500.15 K$"
      ],
      "text/plain": [
       "Eq(227*°C, 500.15*K)"
      ]
     },
     "metadata": {},
     "output_type": "display_data"
    },
    {
     "name": "stdout",
     "output_type": "stream",
     "text": [
      "Usando a equação de Carnot temos\n"
     ]
    },
    {
     "data": {
      "text/latex": [
       "$\\displaystyle Carnot = - \\frac{Temperatura_{fria}}{Temperatura_{quente}} + 1$"
      ],
      "text/plain": [
       "Eq(Carnot, -Temperatura_fria/Temperatura_quente + 1)"
      ]
     },
     "metadata": {},
     "output_type": "display_data"
    },
    {
     "data": {
      "text/latex": [
       "$\\displaystyle Temperatura_{fria} = 300.15 K$"
      ],
      "text/plain": [
       "Eq(Temperatura_fria, 300.15*K)"
      ]
     },
     "metadata": {},
     "output_type": "display_data"
    },
    {
     "data": {
      "text/latex": [
       "$\\displaystyle Temperatura_{quente} = 500.15 K$"
      ],
      "text/plain": [
       "Eq(Temperatura_quente, 500.15*K)"
      ]
     },
     "metadata": {},
     "output_type": "display_data"
    },
    {
     "name": "stdout",
     "output_type": "stream",
     "text": [
      "Substituindo teremos o seguinte percentual\n"
     ]
    },
    {
     "data": {
      "text/latex": [
       "$\\displaystyle Carnot = 0.399880035989203$"
      ],
      "text/plain": [
       "Eq(Carnot, 0.399880035989203)"
      ]
     },
     "metadata": {},
     "output_type": "display_data"
    },
    {
     "name": "stdout",
     "output_type": "stream",
     "text": [
      "Aredondando temos 0.4 ou 40%\n"
     ]
    }
   ],
   "source": [
    "C,K = symbols(\"°C,K\")\n",
    "\n",
    "print('Primeiro iremos converter as temperaturas Celsius para Kelvin')\n",
    "display(Eq(K,C+273.15))\n",
    "\n",
    "print('Logo...')\n",
    "display(Eq(27*C,300.15*K))\n",
    "display(Eq(227*C,500.15*K))\n",
    "\n",
    "print(\"Usando a equação de Carnot temos\")\n",
    "Carnot,Tf,Tq = symbols('Carnot,Temperatura_fria,Temperatura_quente')\n",
    "\n",
    "display(Eq(Carnot,1-(Tf/Tq)))\n",
    "display(Eq(Tf,300.15*K))\n",
    "display(Eq(Tq,500.15*K))\n",
    "\n",
    "print(\"Substituindo teremos o seguinte percentual\")\n",
    "display(Eq(Carnot,1-(300.15/500.15)))\n",
    "\n",
    "print(\"Aredondando temos 0.4 ou 40%\")"
   ]
  },
  {
   "cell_type": "markdown",
   "id": "8e8091bd",
   "metadata": {},
   "source": [
    "A eficiência de Carnot nos diz que, no máximo, a máquina pode converter 40% do calor recebido em trabalho. Para determinar o trabalho máximo que a máquina pode fornecer por ciclo ao exterior, precisamos multiplicar o calor recebido da fonte quente pela eficiência de Carnot. Assim, temos:"
   ]
  },
  {
   "cell_type": "code",
   "execution_count": 28,
   "id": "50b8c9a2",
   "metadata": {},
   "outputs": [
    {
     "data": {
      "text/latex": [
       "$\\displaystyle Temperatura_{maxima} = Carnot*Calor_{recebido}$"
      ],
      "text/plain": [
       "Eq(Temperatura_maxima, Carnot*Calor_recebido)"
      ]
     },
     "metadata": {},
     "output_type": "display_data"
    },
    {
     "data": {
      "text/latex": [
       "$\\displaystyle Calor_{recebido} = 1000 cal$"
      ],
      "text/plain": [
       "Eq(Calor_recebido, 1000*cal)"
      ]
     },
     "metadata": {},
     "output_type": "display_data"
    },
    {
     "data": {
      "text/latex": [
       "$\\displaystyle Carnot = 0.4$"
      ],
      "text/plain": [
       "Eq(Carnot, 0.4)"
      ]
     },
     "metadata": {},
     "output_type": "display_data"
    },
    {
     "name": "stdout",
     "output_type": "stream",
     "text": [
      "Substituindo temos...\n"
     ]
    },
    {
     "data": {
      "text/latex": [
       "$\\displaystyle Temperatura_{maxima} = 0.4*1000 cal$"
      ],
      "text/plain": [
       "Eq(Temperatura_maxima, 0.4*1000*cal)"
      ]
     },
     "metadata": {},
     "output_type": "display_data"
    },
    {
     "data": {
      "text/latex": [
       "$\\displaystyle Temperatura_{maxima} = 400.0 cal$"
      ],
      "text/plain": [
       "Eq(Temperatura_maxima, 400.0*cal)"
      ]
     },
     "metadata": {},
     "output_type": "display_data"
    }
   ],
   "source": [
    "Tm,cal,cr,c = symbols(\"Temperatura_maxima,cal,Calor_recebido,Carnot*Calor_recebido\")\n",
    "display(Eq(Tm,c))\n",
    "\n",
    "display(Eq(cr,1000*cal))\n",
    "display(Eq(Carnot,0.4))\n",
    "\n",
    "print(\"Substituindo temos...\")\n",
    "va = symbols('0.4*1000')\n",
    "display(Eq(Tm,va*cal))\n",
    "display(Eq(Tm,1000*cal*0.4))"
   ]
  }
 ],
 "metadata": {
  "kernelspec": {
   "display_name": "Python 3 (ipykernel)",
   "language": "python",
   "name": "python3"
  },
  "language_info": {
   "codemirror_mode": {
    "name": "ipython",
    "version": 3
   },
   "file_extension": ".py",
   "mimetype": "text/x-python",
   "name": "python",
   "nbconvert_exporter": "python",
   "pygments_lexer": "ipython3",
   "version": "3.9.13"
  },
  "toc": {
   "base_numbering": 1,
   "nav_menu": {},
   "number_sections": true,
   "sideBar": true,
   "skip_h1_title": false,
   "title_cell": "Table of Contents",
   "title_sidebar": "Contents",
   "toc_cell": false,
   "toc_position": {},
   "toc_section_display": true,
   "toc_window_display": false
  }
 },
 "nbformat": 4,
 "nbformat_minor": 5
}
