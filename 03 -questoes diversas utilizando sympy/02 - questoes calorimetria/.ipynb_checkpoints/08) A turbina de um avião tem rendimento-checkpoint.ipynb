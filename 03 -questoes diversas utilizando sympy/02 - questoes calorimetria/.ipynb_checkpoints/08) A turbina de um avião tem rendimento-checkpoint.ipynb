{
 "cells": [
  {
   "cell_type": "markdown",
   "id": "5f6cfdbf",
   "metadata": {},
   "source": [
    "08) A turbina de um avião tem rendimento de 80% do rendimento de uma máquina ideal de Carnot\n",
    "operando às mesmas temperaturas. Em vôo de cruzeiro, a turbina retira calor da fonte quente a\n",
    "127°C e ejeta gases para a atmosfera que está a -33°C. O rendimento dessa turbina é de"
   ]
  },
  {
   "cell_type": "code",
   "execution_count": 1,
   "id": "f89c7c25",
   "metadata": {},
   "outputs": [],
   "source": [
    "from sympy import*"
   ]
  },
  {
   "cell_type": "code",
   "execution_count": 14,
   "id": "75d95ac6",
   "metadata": {},
   "outputs": [
    {
     "name": "stdout",
     "output_type": "stream",
     "text": [
      "Primeiro iremos converter a temperatura °C para K usando a seguinte equação\n"
     ]
    },
    {
     "data": {
      "text/latex": [
       "$\\displaystyle K = °C + 273$"
      ],
      "text/plain": [
       "Eq(K, °C + 273)"
      ]
     },
     "metadata": {},
     "output_type": "display_data"
    },
    {
     "data": {
      "text/latex": [
       "$\\displaystyle 127 °C = 400 K$"
      ],
      "text/plain": [
       "Eq(127*°C, 400*K)"
      ]
     },
     "metadata": {},
     "output_type": "display_data"
    },
    {
     "data": {
      "text/latex": [
       "$\\displaystyle - 33 °C = 240 K$"
      ],
      "text/plain": [
       "Eq(-33*°C, 240*K)"
      ]
     },
     "metadata": {},
     "output_type": "display_data"
    },
    {
     "name": "stdout",
     "output_type": "stream",
     "text": [
      "Agora podemos usar a equação de Carnot\n"
     ]
    },
    {
     "data": {
      "text/latex": [
       "$\\displaystyle Carnot = - \\frac{temperatura´fria}{temperatura´quente} + 1$"
      ],
      "text/plain": [
       "Eq(Carnot, -temperatura´fria/temperatura´quente + 1)"
      ]
     },
     "metadata": {},
     "output_type": "display_data"
    },
    {
     "name": "stdout",
     "output_type": "stream",
     "text": [
      "Dados do enuciado da questão\n"
     ]
    },
    {
     "data": {
      "text/latex": [
       "$\\displaystyle temperatura´fria = 240 K$"
      ],
      "text/plain": [
       "Eq(temperatura´fria, 240*K)"
      ]
     },
     "metadata": {},
     "output_type": "display_data"
    },
    {
     "data": {
      "text/latex": [
       "$\\displaystyle temperatura´quente = 400 K$"
      ],
      "text/plain": [
       "Eq(temperatura´quente, 400*K)"
      ]
     },
     "metadata": {},
     "output_type": "display_data"
    },
    {
     "name": "stdout",
     "output_type": "stream",
     "text": [
      "Substituindo os valores na equação de Carnot teremos o seguinte resultado\n"
     ]
    },
    {
     "data": {
      "text/latex": [
       "$\\displaystyle Carnot = 0.4$"
      ],
      "text/plain": [
       "Eq(Carnot, 0.4)"
      ]
     },
     "metadata": {},
     "output_type": "display_data"
    },
    {
     "name": "stdout",
     "output_type": "stream",
     "text": [
      "Porem a turbina usa 80% desse rendimento entao basta calcular 80% de 40%\n"
     ]
    },
    {
     "data": {
      "text/latex": [
       "$\\displaystyle Turbina_{rendimento} = 0.8x0.4$"
      ],
      "text/plain": [
       "Eq(Turbina_rendimento, 0.8x0.4)"
      ]
     },
     "metadata": {},
     "output_type": "display_data"
    },
    {
     "data": {
      "text/latex": [
       "$\\displaystyle Turbina_{rendimento} = 0.32$"
      ],
      "text/plain": [
       "Eq(Turbina_rendimento, 0.32)"
      ]
     },
     "metadata": {},
     "output_type": "display_data"
    },
    {
     "name": "stdout",
     "output_type": "stream",
     "text": [
      "Resposta 32% ou 0,32\n"
     ]
    }
   ],
   "source": [
    "C,K = symbols('°C,K')\n",
    "Carnot,temperaturafria,temperaturaquente = symbols('Carnot,temperatura´fria,temperatura´quente')\n",
    "\n",
    "print(\"Primeiro iremos converter a temperatura °C para K usando a seguinte equação\")\n",
    "display(Eq(K,C + 273))\n",
    "\n",
    "display(Eq(127*C,400*K))\n",
    "display(Eq(-33*C,240*K))\n",
    "\n",
    "print(\"Agora podemos usar a equação de Carnot\")\n",
    "eq = temperaturafria/temperaturaquente\n",
    "\n",
    "display(Eq(Carnot,1-eq))\n",
    "\n",
    "print(\"Dados do enuciado da questão\")\n",
    "display(Eq(temperaturafria,240*K))\n",
    "display(Eq(temperaturaquente,400*K))\n",
    "\n",
    "print(\"Substituindo os valores na equação de Carnot teremos o seguinte resultado\")\n",
    "display(Eq(Carnot,1-(240/400)))\n",
    "\n",
    "print(\"Porem a turbina usa 80% desse rendimento entao basta calcular 80% de 40%\")\n",
    "tubinarendimento,valor = symbols(\"Turbina_rendimento,0.8x0.4\")\n",
    "\n",
    "display(Eq(tubinarendimento,valor))\n",
    "display(Eq(tubinarendimento,0.8*0.4))\n",
    "\n",
    "print(\"Resposta 32% ou 0,32\")"
   ]
  }
 ],
 "metadata": {
  "kernelspec": {
   "display_name": "Python 3 (ipykernel)",
   "language": "python",
   "name": "python3"
  },
  "language_info": {
   "codemirror_mode": {
    "name": "ipython",
    "version": 3
   },
   "file_extension": ".py",
   "mimetype": "text/x-python",
   "name": "python",
   "nbconvert_exporter": "python",
   "pygments_lexer": "ipython3",
   "version": "3.9.13"
  },
  "toc": {
   "base_numbering": 1,
   "nav_menu": {},
   "number_sections": true,
   "sideBar": true,
   "skip_h1_title": false,
   "title_cell": "Table of Contents",
   "title_sidebar": "Contents",
   "toc_cell": false,
   "toc_position": {},
   "toc_section_display": true,
   "toc_window_display": false
  }
 },
 "nbformat": 4,
 "nbformat_minor": 5
}
