{
 "cells": [
  {
   "cell_type": "markdown",
   "id": "9f69b4e9",
   "metadata": {},
   "source": [
    "03) Se uma máquina térmica recebe da fonte quente 100 J de calor, realiza um trabalho de 80 J e\n",
    "rejeita para a fonte fria 30 J, qual lei termodinâmica está sendo desrespeitada?"
   ]
  },
  {
   "cell_type": "markdown",
   "id": "8940f1c5",
   "metadata": {},
   "source": [
    "A Segunda Lei da Termodinâmica afirma que é impossível construir uma máquina térmica que opere em ciclo e converta integralmente calor em trabalho, sem nenhuma perda de calor para a fonte fria. Essa perda de calor é uma consequência da natureza irreversível dos processos termodinâmicos.\n",
    "\n",
    "No enunciado da questão, a máquina térmica recebeu 100 J de calor da fonte quente, realizou 80 J de trabalho e rejeitou 30 J de calor para a fonte fria. Se considerarmos que a máquina térmica não realizou nenhuma outra forma de trabalho além dos 80 J mencionados, então a quantidade total de energia que a máquina recebeu foi de:\n",
    "\n"
   ]
  },
  {
   "cell_type": "code",
   "execution_count": 1,
   "id": "02390978",
   "metadata": {},
   "outputs": [],
   "source": [
    "from sympy import *"
   ]
  },
  {
   "cell_type": "code",
   "execution_count": 6,
   "id": "ea6a05b6",
   "metadata": {},
   "outputs": [
    {
     "data": {
      "text/latex": [
       "$\\displaystyle energia_{total recebida} = calor_{recebido} + trbalho_{realizado}$"
      ],
      "text/plain": [
       "Eq(energia_total_recebida, calor_recebido + trbalho_realizado)"
      ]
     },
     "metadata": {},
     "output_type": "display_data"
    },
    {
     "data": {
      "text/latex": [
       "$\\displaystyle energia_{total recebida} = 100J+80J$"
      ],
      "text/plain": [
       "Eq(energia_total_recebida, 100J+80J)"
      ]
     },
     "metadata": {},
     "output_type": "display_data"
    },
    {
     "data": {
      "text/latex": [
       "$\\displaystyle energia_{total recebida} = 180J$"
      ],
      "text/plain": [
       "Eq(energia_total_recebida, 180J)"
      ]
     },
     "metadata": {},
     "output_type": "display_data"
    }
   ],
   "source": [
    "energia_total_recebida,calor_recebido,trabalho_realizado = symbols('energia_total_recebida,calor_recebido,trbalho_realizado')\n",
    "a,b = symbols('100J+80J,180J')\n",
    "display(Eq(energia_total_recebida,calor_recebido+trabalho_realizado))\n",
    "display(Eq(energia_total_recebida,a))\n",
    "display(Eq(energia_total_recebida,b))"
   ]
  },
  {
   "cell_type": "markdown",
   "id": "8a3a5bef",
   "metadata": {},
   "source": [
    "Já a quantidade total de energia que a máquina rejeitou foi de 100 J + 30 J = 130 J.\n",
    "\n",
    "Podemos perceber que a energia total rejeitada pela máquina térmica para a fonte fria é maior do que o trabalho realizado por ela. Isso significa que houve uma perda de energia no processo, que não foi convertida integralmente em trabalho. Essa perda de energia viola a Segunda Lei da Termodinâmica, que estabelece que é impossível construir uma máquina térmica que opere em ciclo e converta integralmente calor em trabalho, sem nenhuma perda de calor para a fonte fria.\n",
    "\n",
    "Portanto, a lei termodinâmica que está sendo desrespeitada é a Segunda Lei da Termodinâmica."
   ]
  },
  {
   "cell_type": "code",
   "execution_count": null,
   "id": "fb55a0ba",
   "metadata": {},
   "outputs": [],
   "source": []
  },
  {
   "cell_type": "code",
   "execution_count": null,
   "id": "9c96a6f5",
   "metadata": {},
   "outputs": [],
   "source": []
  },
  {
   "cell_type": "code",
   "execution_count": null,
   "id": "ed8e68ff",
   "metadata": {},
   "outputs": [],
   "source": []
  },
  {
   "cell_type": "code",
   "execution_count": null,
   "id": "ea5d075d",
   "metadata": {},
   "outputs": [],
   "source": []
  },
  {
   "cell_type": "code",
   "execution_count": null,
   "id": "a80b1c7a",
   "metadata": {},
   "outputs": [],
   "source": []
  }
 ],
 "metadata": {
  "kernelspec": {
   "display_name": "Python 3 (ipykernel)",
   "language": "python",
   "name": "python3"
  },
  "language_info": {
   "codemirror_mode": {
    "name": "ipython",
    "version": 3
   },
   "file_extension": ".py",
   "mimetype": "text/x-python",
   "name": "python",
   "nbconvert_exporter": "python",
   "pygments_lexer": "ipython3",
   "version": "3.9.13"
  },
  "toc": {
   "base_numbering": 1,
   "nav_menu": {},
   "number_sections": true,
   "sideBar": true,
   "skip_h1_title": false,
   "title_cell": "Table of Contents",
   "title_sidebar": "Contents",
   "toc_cell": false,
   "toc_position": {},
   "toc_section_display": true,
   "toc_window_display": false
  }
 },
 "nbformat": 4,
 "nbformat_minor": 5
}
