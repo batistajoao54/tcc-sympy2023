{
 "cells": [
  {
   "cell_type": "markdown",
   "id": "bfc2ba96",
   "metadata": {},
   "source": [
    "05) O rendimento de uma máquina térmica é de 20%. Se em cada ciclo a máquina recebe da fonte\n",
    "quente 200J de calor, qual o trabalho realizado por ela, por ciclo?\n"
   ]
  },
  {
   "cell_type": "markdown",
   "id": "884932c5",
   "metadata": {},
   "source": [
    "Podemos utilizar a definição de rendimento de uma máquina térmica para calcular o trabalho realizado por ela. O rendimento é definido como a razão entre o trabalho realizado pela máquina e o calor recebido da fonte quente, ou seja:\n",
    "\n",
    "rendimento = trabalho realizado / calor recebido da fonte quente\n",
    "\n",
    "Podemos rearranjar essa equação para obter o trabalho realizado:\n",
    "\n",
    "trabalho realizado = rendimento x calor recebido da fonte quente\n",
    "\n",
    "Substituindo os valores dados na questão, temos:\n",
    "\n",
    "rendimento = 20% = 0,2 (em forma decimal)\n",
    "calor recebido da fonte quente = 200 J\n",
    "\n",
    "Então, o trabalho realizado por ciclo será:\n",
    "\n",
    "trabalho realizado = 0,2 x 200 J\n",
    "trabalho realizado = 40 J\n",
    "\n",
    "Portanto, o trabalho realizado pela máquina térmica por ciclo é de 40 J."
   ]
  },
  {
   "cell_type": "code",
   "execution_count": 1,
   "id": "0bc16349",
   "metadata": {},
   "outputs": [],
   "source": [
    "from sympy import *"
   ]
  },
  {
   "cell_type": "code",
   "execution_count": 27,
   "id": "a78106f7",
   "metadata": {},
   "outputs": [
    {
     "data": {
      "text/latex": [
       "$\\displaystyle rendimento = \\frac{trabalho_{realizado}}{calor_{recebido da fonte quente}}$"
      ],
      "text/plain": [
       "Eq(rendimento, trabalho_realizado/calor_recebido_da_fonte_quente)"
      ]
     },
     "metadata": {},
     "output_type": "display_data"
    },
    {
     "data": {
      "text/latex": [
       "$\\displaystyle rendimento = 0.2$"
      ],
      "text/plain": [
       "Eq(rendimento, 0.2)"
      ]
     },
     "metadata": {},
     "output_type": "display_data"
    },
    {
     "data": {
      "text/latex": [
       "$\\displaystyle calor_{recebido da fonte quente} = 200 J$"
      ],
      "text/plain": [
       "Eq(calor_recebido_da_fonte_quente, 200*J)"
      ]
     },
     "metadata": {},
     "output_type": "display_data"
    },
    {
     "name": "stdout",
     "output_type": "stream",
     "text": [
      "Organizando a equação e isolando o TRABALHO REALIZADO TEMOS:\n"
     ]
    },
    {
     "data": {
      "text/latex": [
       "$\\displaystyle trabalho_{realizado} = calor_{recebido da fonte quente} rendimento$"
      ],
      "text/plain": [
       "Eq(trabalho_realizado, calor_recebido_da_fonte_quente*rendimento)"
      ]
     },
     "metadata": {},
     "output_type": "display_data"
    },
    {
     "name": "stdout",
     "output_type": "stream",
     "text": [
      "Substituindo os valores em seus lugares especificados temos\n"
     ]
    },
    {
     "data": {
      "text/latex": [
       "$\\displaystyle trabalho_{realizado} = 40.0 J$"
      ],
      "text/plain": [
       "Eq(trabalho_realizado, 40.0*J)"
      ]
     },
     "metadata": {},
     "output_type": "display_data"
    }
   ],
   "source": [
    "rendimento,trabalho0realizado,calor0recebido0da0fonte0quente = symbols('rendimento,trabalho_realizado,calor_recebido_da_fonte_quente')\n",
    "display(Eq(rendimento,trabalho0realizado/calor0recebido0da0fonte0quente))\n",
    "\n",
    "display(Eq(rendimento,0.20)) #já transformando a porcentagem em decimal\n",
    "\n",
    "J = symbols('J')\n",
    "display(Eq(calor0recebido0da0fonte0quente,200*J))\n",
    "\n",
    "print('Organizando a equação e isolando o TRABALHO REALIZADO TEMOS:')\n",
    "display(Eq(trabalho0realizado,rendimento*calor0recebido0da0fonte0quente))\n",
    "\n",
    "print(\"Substituindo os valores em seus lugares especificados temos\")\n",
    "display(Eq(trabalho0realizado,200*0.2*J))"
   ]
  }
 ],
 "metadata": {
  "kernelspec": {
   "display_name": "Python 3 (ipykernel)",
   "language": "python",
   "name": "python3"
  },
  "language_info": {
   "codemirror_mode": {
    "name": "ipython",
    "version": 3
   },
   "file_extension": ".py",
   "mimetype": "text/x-python",
   "name": "python",
   "nbconvert_exporter": "python",
   "pygments_lexer": "ipython3",
   "version": "3.9.13"
  },
  "toc": {
   "base_numbering": 1,
   "nav_menu": {},
   "number_sections": true,
   "sideBar": true,
   "skip_h1_title": false,
   "title_cell": "Table of Contents",
   "title_sidebar": "Contents",
   "toc_cell": false,
   "toc_position": {},
   "toc_section_display": true,
   "toc_window_display": false
  }
 },
 "nbformat": 4,
 "nbformat_minor": 5
}
