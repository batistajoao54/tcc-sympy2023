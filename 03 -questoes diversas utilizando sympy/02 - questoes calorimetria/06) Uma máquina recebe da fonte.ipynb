{
 "cells": [
  {
   "cell_type": "markdown",
   "id": "0856842c",
   "metadata": {},
   "source": [
    "06) Uma máquina recebe da fonte quente 1000 J por ciclo. Se em cada ciclo o trabalho realizado é\n",
    "de 200 J,qual a quantidade de calor que deve ser rejeitada para a fonte fria?"
   ]
  },
  {
   "cell_type": "code",
   "execution_count": 8,
   "id": "5ea26beb",
   "metadata": {},
   "outputs": [],
   "source": [
    "from sympy import*\n",
    "\n",
    "Cr,Crj,T,J = symbols('Cr,Crj,T,J') \n",
    "calor_recebido,calor_rejeitado,Trabalho_realizado = symbols('calor_recebido,calor_rejeitado,Trabalho_realizado')"
   ]
  },
  {
   "cell_type": "code",
   "execution_count": 13,
   "id": "5a4f1135",
   "metadata": {},
   "outputs": [
    {
     "name": "stdout",
     "output_type": "stream",
     "text": [
      "Primeira Lei da Termodinamica onde teremos:\n"
     ]
    },
    {
     "data": {
      "text/latex": [
       "$\\displaystyle Cr = calor_{recebido}$"
      ],
      "text/plain": [
       "Eq(Cr, calor_recebido)"
      ]
     },
     "metadata": {},
     "output_type": "display_data"
    },
    {
     "data": {
      "text/latex": [
       "$\\displaystyle Crj = calor_{rejeitado}$"
      ],
      "text/plain": [
       "Eq(Crj, calor_rejeitado)"
      ]
     },
     "metadata": {},
     "output_type": "display_data"
    },
    {
     "data": {
      "text/latex": [
       "$\\displaystyle T = Trabalho_{realizado}$"
      ],
      "text/plain": [
       "Eq(T, Trabalho_realizado)"
      ]
     },
     "metadata": {},
     "output_type": "display_data"
    },
    {
     "name": "stdout",
     "output_type": "stream",
     "text": [
      "Equação\n"
     ]
    },
    {
     "data": {
      "text/latex": [
       "$\\displaystyle Cr = Crj + T$"
      ],
      "text/plain": [
       "Eq(Cr, Crj + T)"
      ]
     },
     "metadata": {},
     "output_type": "display_data"
    },
    {
     "name": "stdout",
     "output_type": "stream",
     "text": [
      "Dados do enuciado:\n"
     ]
    },
    {
     "data": {
      "text/latex": [
       "$\\displaystyle Cr = 1000 J$"
      ],
      "text/plain": [
       "Eq(Cr, 1000*J)"
      ]
     },
     "metadata": {},
     "output_type": "display_data"
    },
    {
     "data": {
      "text/latex": [
       "$\\displaystyle T = 200 J$"
      ],
      "text/plain": [
       "Eq(T, 200*J)"
      ]
     },
     "metadata": {},
     "output_type": "display_data"
    },
    {
     "name": "stdout",
     "output_type": "stream",
     "text": [
      "Reorganizando a equação para isolar o Crj teremos\n"
     ]
    },
    {
     "data": {
      "text/latex": [
       "$\\displaystyle Crj = Cr - T$"
      ],
      "text/plain": [
       "Eq(Crj, Cr - T)"
      ]
     },
     "metadata": {},
     "output_type": "display_data"
    },
    {
     "name": "stdout",
     "output_type": "stream",
     "text": [
      "Agora so precisamos substituir os valores e teremos:\n"
     ]
    },
    {
     "data": {
      "text/latex": [
       "$\\displaystyle Crj = 800 J$"
      ],
      "text/plain": [
       "Eq(Crj, 800*J)"
      ]
     },
     "metadata": {},
     "output_type": "display_data"
    },
    {
     "name": "stdout",
     "output_type": "stream",
     "text": [
      "Portanto, a quantidade de calor que deve ser rejeitada para a fonte fria é de 800 J.\n"
     ]
    }
   ],
   "source": [
    "print('Primeira Lei da Termodinamica onde teremos:')\n",
    "\n",
    "display(Eq(Cr,calor_recebido))\n",
    "display(Eq(Crj,calor_rejeitado))\n",
    "display(Eq(T,Trabalho_realizado))\n",
    "\n",
    "print(\"Equação\")\n",
    "display(Eq(Cr,Crj+T))\n",
    "\n",
    "print('Dados do enuciado:')\n",
    "display(Eq(Cr,1000*J))\n",
    "display(Eq(T,200*J))\n",
    "\n",
    "print('Reorganizando a equação para isolar o Crj teremos')\n",
    "display(Eq(Crj,Cr-T))\n",
    "\n",
    "print(\"Agora so precisamos substituir os valores e teremos:\")\n",
    "display(Eq(Crj,1000*J-200*J))\n",
    "\n",
    "print(\"Portanto, a quantidade de calor que deve ser rejeitada para a fonte fria é de 800 J.\")"
   ]
  }
 ],
 "metadata": {
  "kernelspec": {
   "display_name": "Python 3 (ipykernel)",
   "language": "python",
   "name": "python3"
  },
  "language_info": {
   "codemirror_mode": {
    "name": "ipython",
    "version": 3
   },
   "file_extension": ".py",
   "mimetype": "text/x-python",
   "name": "python",
   "nbconvert_exporter": "python",
   "pygments_lexer": "ipython3",
   "version": "3.9.13"
  },
  "toc": {
   "base_numbering": 1,
   "nav_menu": {},
   "number_sections": true,
   "sideBar": true,
   "skip_h1_title": false,
   "title_cell": "Table of Contents",
   "title_sidebar": "Contents",
   "toc_cell": false,
   "toc_position": {},
   "toc_section_display": true,
   "toc_window_display": false
  }
 },
 "nbformat": 4,
 "nbformat_minor": 5
}
