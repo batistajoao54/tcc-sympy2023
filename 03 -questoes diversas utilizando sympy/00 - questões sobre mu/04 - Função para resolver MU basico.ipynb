{
 "cells": [
  {
   "cell_type": "code",
   "execution_count": 1,
   "id": "125880ca",
   "metadata": {},
   "outputs": [],
   "source": [
    "from sympy import *"
   ]
  },
  {
   "cell_type": "code",
   "execution_count": 62,
   "id": "5a580d4a",
   "metadata": {},
   "outputs": [],
   "source": [
    "def movimento_uniforme(res = \"velocidade\",velocidade = 1,espaco = 1,tempo=1,SI = \"km/h\"):\n",
    "    if SI == \"km/h\":\n",
    "        if res == \"velocidade\": #para a resposta ser velocidade\n",
    "            ΔS,Δt,vm = symbols('ΔS,Δt,v_m')\n",
    "            display(Eq(vm,ΔS/Δt))\n",
    "\n",
    "            d = symbols(f'{espaco}km')\n",
    "            t = symbols(f'{tempo}h')\n",
    "            display(Eq(vm,d/t))\n",
    "\n",
    "            si = symbols('km/h')\n",
    "            display(Eq(vm,(espaco/tempo)*si))\n",
    "\n",
    "\n",
    "        if res == \"tempo\": #para a resposta ser tempo\n",
    "            ΔS,Δt,vm = symbols('ΔS,Δt,v_m')\n",
    "            display(Eq(Δt,ΔS/vm))\n",
    "\n",
    "\n",
    "            d = symbols(f'{espaco}km')\n",
    "            v = symbols(f'{velocidade}km/h')\n",
    "            display(Eq(Δt,d/v))\n",
    "\n",
    "            si = symbols('h')\n",
    "            display(Eq(Δt,(espaco/velocidade)*si))\n",
    "\n",
    "        if res == \"distancia\": #para a resposta ser distancia\n",
    "            ΔS,Δt,vm = symbols('ΔS,Δt,v_m')\n",
    "            display(Eq(ΔS,Δt*vm))\n",
    "\n",
    "\n",
    "            t = symbols(f'{tempo}h')\n",
    "            v = symbols(f'{velocidade}km/h')\n",
    "            display(Eq(ΔS,v*t))\n",
    "\n",
    "            si = symbols('km')\n",
    "            display(Eq(ΔS,velocidade*tempo*si))\n",
    "    \n",
    "    #mudando as grandezas para metros por segundos\n",
    "    if SI == \"m/s\":\n",
    "        if res == 'velocidade':\n",
    "            ΔS,Δt,vm = symbols('ΔS,Δt,v_m')\n",
    "            display(Eq(vm,ΔS/Δt))\n",
    "\n",
    "            d = symbols(f'{espaco}m')\n",
    "            t = symbols(f'{tempo}s')\n",
    "            display(Eq(vm,d/t))\n",
    "\n",
    "            si = symbols('m/s')\n",
    "            display(Eq(vm,(espaco/tempo)*si))\n",
    "            \n",
    "        if res == \"tempo\": #para a resposta ser tempo\n",
    "            ΔS,Δt,vm = symbols('ΔS,Δt,v_m')\n",
    "            display(Eq(Δt,ΔS/vm))\n",
    "\n",
    "\n",
    "            d = symbols(f'{espaco}m')\n",
    "            v = symbols(f'{velocidade}m/s')\n",
    "            display(Eq(Δt,d/v))\n",
    "\n",
    "            si = symbols('s')\n",
    "            display(Eq(Δt,(espaco/velocidade)*si))\n",
    "            \n",
    "       \n",
    "        if res == \"distancia\": #para a resposta ser distancia\n",
    "            ΔS,Δt,vm = symbols('ΔS,Δt,v_m')\n",
    "            display(Eq(ΔS,Δt*vm))\n",
    "\n",
    "\n",
    "            t = symbols(f'{tempo}s')\n",
    "            v = symbols(f'{velocidade}m/s')\n",
    "            display(Eq(ΔS,v*t))\n",
    "\n",
    "            si = symbols('m')\n",
    "            display(Eq(ΔS,velocidade*tempo*si))"
   ]
  },
  {
   "cell_type": "code",
   "execution_count": 52,
   "id": "a49267a1",
   "metadata": {},
   "outputs": [
    {
     "data": {
      "text/latex": [
       "$\\displaystyle v_{m} = \\frac{ΔS}{Δt}$"
      ],
      "text/plain": [
       "Eq(v_m, ΔS/Δt)"
      ]
     },
     "metadata": {},
     "output_type": "display_data"
    },
    {
     "data": {
      "text/latex": [
       "$\\displaystyle v_{m} = \\frac{12km}{2h}$"
      ],
      "text/plain": [
       "Eq(v_m, 12km/2h)"
      ]
     },
     "metadata": {},
     "output_type": "display_data"
    },
    {
     "data": {
      "text/latex": [
       "$\\displaystyle v_{m} = 6.0 km/h$"
      ],
      "text/plain": [
       "Eq(v_m, 6.0*km/h)"
      ]
     },
     "metadata": {},
     "output_type": "display_data"
    }
   ],
   "source": [
    "movimento_uniforme(espaco=12,tempo=2)"
   ]
  },
  {
   "cell_type": "code",
   "execution_count": 53,
   "id": "36d2ae4a",
   "metadata": {},
   "outputs": [
    {
     "data": {
      "text/latex": [
       "$\\displaystyle Δt = \\frac{ΔS}{v_{m}}$"
      ],
      "text/plain": [
       "Eq(Δt, ΔS/v_m)"
      ]
     },
     "metadata": {},
     "output_type": "display_data"
    },
    {
     "data": {
      "text/latex": [
       "$\\displaystyle Δt = \\frac{134km}{80km/h}$"
      ],
      "text/plain": [
       "Eq(Δt, 134km/80km/h)"
      ]
     },
     "metadata": {},
     "output_type": "display_data"
    },
    {
     "data": {
      "text/latex": [
       "$\\displaystyle Δt = 1.675 h$"
      ],
      "text/plain": [
       "Eq(Δt, 1.675*h)"
      ]
     },
     "metadata": {},
     "output_type": "display_data"
    }
   ],
   "source": [
    "movimento_uniforme(res='tempo',espaco=134,velocidade=80)"
   ]
  },
  {
   "cell_type": "code",
   "execution_count": 54,
   "id": "65cc0414",
   "metadata": {},
   "outputs": [
    {
     "data": {
      "text/latex": [
       "$\\displaystyle ΔS = v_{m} Δt$"
      ],
      "text/plain": [
       "Eq(ΔS, v_m*Δt)"
      ]
     },
     "metadata": {},
     "output_type": "display_data"
    },
    {
     "data": {
      "text/latex": [
       "$\\displaystyle ΔS = 1.5h 67km/h$"
      ],
      "text/plain": [
       "Eq(ΔS, 1.5h*67km/h)"
      ]
     },
     "metadata": {},
     "output_type": "display_data"
    },
    {
     "data": {
      "text/latex": [
       "$\\displaystyle ΔS = 100.5 km$"
      ],
      "text/plain": [
       "Eq(ΔS, 100.5*km)"
      ]
     },
     "metadata": {},
     "output_type": "display_data"
    }
   ],
   "source": [
    "movimento_uniforme(res='distancia',tempo=1.5,velocidade=67)"
   ]
  },
  {
   "cell_type": "code",
   "execution_count": 67,
   "id": "fb435676",
   "metadata": {},
   "outputs": [
    {
     "data": {
      "text/latex": [
       "$\\displaystyle v_{m} = \\frac{ΔS}{Δt}$"
      ],
      "text/plain": [
       "Eq(v_m, ΔS/Δt)"
      ]
     },
     "metadata": {},
     "output_type": "display_data"
    },
    {
     "data": {
      "text/latex": [
       "$\\displaystyle v_{m} = \\frac{500m}{40s}$"
      ],
      "text/plain": [
       "Eq(v_m, 500m/40s)"
      ]
     },
     "metadata": {},
     "output_type": "display_data"
    },
    {
     "data": {
      "text/latex": [
       "$\\displaystyle v_{m} = 12.5 m/s$"
      ],
      "text/plain": [
       "Eq(v_m, 12.5*m/s)"
      ]
     },
     "metadata": {},
     "output_type": "display_data"
    }
   ],
   "source": [
    "movimento_uniforme(SI = 'm/s',res='velocidade',espaco=500,tempo=40)"
   ]
  },
  {
   "cell_type": "code",
   "execution_count": 65,
   "id": "d187e8b3",
   "metadata": {},
   "outputs": [
    {
     "data": {
      "text/latex": [
       "$\\displaystyle ΔS = v_{m} Δt$"
      ],
      "text/plain": [
       "Eq(ΔS, v_m*Δt)"
      ]
     },
     "metadata": {},
     "output_type": "display_data"
    },
    {
     "data": {
      "text/latex": [
       "$\\displaystyle ΔS = 13m/s 9s$"
      ],
      "text/plain": [
       "Eq(ΔS, 13m/s*9s)"
      ]
     },
     "metadata": {},
     "output_type": "display_data"
    },
    {
     "data": {
      "text/latex": [
       "$\\displaystyle ΔS = 117 m$"
      ],
      "text/plain": [
       "Eq(ΔS, 117*m)"
      ]
     },
     "metadata": {},
     "output_type": "display_data"
    }
   ],
   "source": [
    "movimento_uniforme(res='distancia',SI='m/s',velocidade=13,tempo=9)"
   ]
  },
  {
   "cell_type": "code",
   "execution_count": 70,
   "id": "b3b9d1fb",
   "metadata": {},
   "outputs": [
    {
     "data": {
      "text/latex": [
       "$\\displaystyle Δt = \\frac{ΔS}{v_{m}}$"
      ],
      "text/plain": [
       "Eq(Δt, ΔS/v_m)"
      ]
     },
     "metadata": {},
     "output_type": "display_data"
    },
    {
     "data": {
      "text/latex": [
       "$\\displaystyle Δt = \\frac{345m}{5m/s}$"
      ],
      "text/plain": [
       "Eq(Δt, 345m/5m/s)"
      ]
     },
     "metadata": {},
     "output_type": "display_data"
    },
    {
     "data": {
      "text/latex": [
       "$\\displaystyle Δt = 69.0 s$"
      ],
      "text/plain": [
       "Eq(Δt, 69.0*s)"
      ]
     },
     "metadata": {},
     "output_type": "display_data"
    }
   ],
   "source": [
    "movimento_uniforme(res='tempo',SI='m/s',espaco=345,velocidade=5)"
   ]
  }
 ],
 "metadata": {
  "kernelspec": {
   "display_name": "Python 3 (ipykernel)",
   "language": "python",
   "name": "python3"
  },
  "language_info": {
   "codemirror_mode": {
    "name": "ipython",
    "version": 3
   },
   "file_extension": ".py",
   "mimetype": "text/x-python",
   "name": "python",
   "nbconvert_exporter": "python",
   "pygments_lexer": "ipython3",
   "version": "3.9.13"
  },
  "toc": {
   "base_numbering": 1,
   "nav_menu": {},
   "number_sections": true,
   "sideBar": true,
   "skip_h1_title": false,
   "title_cell": "Table of Contents",
   "title_sidebar": "Contents",
   "toc_cell": false,
   "toc_position": {},
   "toc_section_display": true,
   "toc_window_display": false
  }
 },
 "nbformat": 4,
 "nbformat_minor": 5
}
