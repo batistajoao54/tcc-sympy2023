{
 "cells": [
  {
   "cell_type": "markdown",
   "id": "6f634c7b",
   "metadata": {},
   "source": [
    "Que distância seu carro percorre, a 88 km/h, durante 1 s em que você olha um acidente à margem da estrada?"
   ]
  },
  {
   "cell_type": "code",
   "execution_count": 1,
   "id": "3faeee33",
   "metadata": {},
   "outputs": [],
   "source": [
    "from sympy import* #importando a biblioteca"
   ]
  },
  {
   "cell_type": "code",
   "execution_count": 2,
   "id": "243ee075",
   "metadata": {},
   "outputs": [],
   "source": [
    "v = 88 #km/h\n",
    "t = 1 #segundos\n",
    "d = symbols('d') #variavel que tenho que deduzir atravez da matematica"
   ]
  },
  {
   "cell_type": "code",
   "execution_count": 3,
   "id": "ecbfd71f",
   "metadata": {},
   "outputs": [],
   "source": [
    "v_ms = v/3.6 #convertendo km/h em m/s\n"
   ]
  },
  {
   "cell_type": "code",
   "execution_count": 9,
   "id": "da956cff",
   "metadata": {},
   "outputs": [
    {
     "data": {
      "text/latex": [
       "$\\displaystyle v = \\frac{d}{t}$"
      ],
      "text/plain": [
       "Eq(v, d/t)"
      ]
     },
     "metadata": {},
     "output_type": "display_data"
    },
    {
     "data": {
      "text/latex": [
       "$\\displaystyle t v = d$"
      ],
      "text/plain": [
       "Eq(t*v, d)"
      ]
     },
     "metadata": {},
     "output_type": "display_data"
    },
    {
     "data": {
      "text/latex": [
       "$\\displaystyle d = t v$"
      ],
      "text/plain": [
       "Eq(d, t*v)"
      ]
     },
     "metadata": {},
     "output_type": "display_data"
    }
   ],
   "source": [
    "velocidade, distancia, tempo = symbols('v,d,t') #criando simbolos para escrever a equação\n",
    "\n",
    "exq = Eq(velocidade,distancia/tempo) #igualando velocidade ao quociente da distancia pelo tempo\n",
    "display(exq) #demonstrando a equação da velocidade media\n",
    "\n",
    "display(Eq(tempo*velocidade,distancia)) #movendo o tempo para o lado esquerdo\n",
    "\n",
    "\n",
    "exp = Eq(distancia,velocidade*tempo) #movendo a equação \n",
    "display(exp) #demostrando a equação final"
   ]
  },
  {
   "cell_type": "code",
   "execution_count": 10,
   "id": "ac84066f",
   "metadata": {},
   "outputs": [
    {
     "data": {
      "text/latex": [
       "$\\displaystyle d = 24.4444444444444$"
      ],
      "text/plain": [
       "Eq(d, 24.4444444444444)"
      ]
     },
     "metadata": {},
     "output_type": "display_data"
    }
   ],
   "source": [
    "resposta = exp.subs({velocidade:v_ms,tempo:t}) #substituindo os simbolos por seus valores numericos\n",
    "\n",
    "display(resposta)"
   ]
  },
  {
   "cell_type": "code",
   "execution_count": 19,
   "id": "f9f5af19",
   "metadata": {},
   "outputs": [],
   "source": [
    "resposta2 = solve(resposta) #melhorando a resolução para colocar no texto final"
   ]
  },
  {
   "cell_type": "code",
   "execution_count": 20,
   "id": "c1aa85bd",
   "metadata": {},
   "outputs": [
    {
     "name": "stdout",
     "output_type": "stream",
     "text": [
      "A distancia foi de 24.44 metros\n"
     ]
    }
   ],
   "source": [
    "print(f'A distancia foi de {resposta2[0]:.2f} metros')"
   ]
  },
  {
   "cell_type": "code",
   "execution_count": null,
   "id": "09edf0a6",
   "metadata": {},
   "outputs": [],
   "source": []
  },
  {
   "cell_type": "code",
   "execution_count": null,
   "id": "3eddc36e",
   "metadata": {},
   "outputs": [],
   "source": []
  },
  {
   "cell_type": "code",
   "execution_count": null,
   "id": "020bc2d3",
   "metadata": {},
   "outputs": [],
   "source": []
  },
  {
   "cell_type": "code",
   "execution_count": null,
   "id": "749bfcd0",
   "metadata": {},
   "outputs": [],
   "source": []
  },
  {
   "cell_type": "code",
   "execution_count": null,
   "id": "9b470c1e",
   "metadata": {},
   "outputs": [],
   "source": []
  }
 ],
 "metadata": {
  "kernelspec": {
   "display_name": "Python 3 (ipykernel)",
   "language": "python",
   "name": "python3"
  },
  "language_info": {
   "codemirror_mode": {
    "name": "ipython",
    "version": 3
   },
   "file_extension": ".py",
   "mimetype": "text/x-python",
   "name": "python",
   "nbconvert_exporter": "python",
   "pygments_lexer": "ipython3",
   "version": "3.9.13"
  },
  "toc": {
   "base_numbering": 1,
   "nav_menu": {},
   "number_sections": true,
   "sideBar": true,
   "skip_h1_title": false,
   "title_cell": "Table of Contents",
   "title_sidebar": "Contents",
   "toc_cell": false,
   "toc_position": {},
   "toc_section_display": true,
   "toc_window_display": false
  }
 },
 "nbformat": 4,
 "nbformat_minor": 5
}
