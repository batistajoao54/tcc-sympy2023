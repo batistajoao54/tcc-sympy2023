{
 "cells": [
  {
   "cell_type": "markdown",
   "id": "96650d93",
   "metadata": {},
   "source": [
    "Um jogador de baisebol consegue lançar uma bola com velocidade horizontal de 160 km/h, medida por um radar portátil.Em quanto tempo a bola atigirá o alvo, situado a 18,4m?"
   ]
  },
  {
   "cell_type": "code",
   "execution_count": 1,
   "id": "5fb70238",
   "metadata": {},
   "outputs": [],
   "source": [
    "from sympy import*"
   ]
  },
  {
   "cell_type": "code",
   "execution_count": 2,
   "id": "5e7584b4",
   "metadata": {},
   "outputs": [],
   "source": [
    "d,v,t = symbols(\"d,v,t\") # difinindo as variaveis que iremos utilizar"
   ]
  },
  {
   "cell_type": "code",
   "execution_count": 4,
   "id": "0f5c76da",
   "metadata": {},
   "outputs": [
    {
     "data": {
      "text/latex": [
       "$\\displaystyle v = \\frac{d}{t}$"
      ],
      "text/plain": [
       "Eq(v, d/t)"
      ]
     },
     "metadata": {},
     "output_type": "display_data"
    },
    {
     "data": {
      "text/latex": [
       "$\\displaystyle t = \\frac{d}{v}$"
      ],
      "text/plain": [
       "Eq(t, d/v)"
      ]
     },
     "metadata": {},
     "output_type": "display_data"
    }
   ],
   "source": [
    "display(Eq(v,d/t)) #demostrançao da equação\n",
    "\n",
    "display(Eq(t,d/v)) #isolando o tempo"
   ]
  },
  {
   "cell_type": "code",
   "execution_count": 5,
   "id": "4f0b27d8",
   "metadata": {},
   "outputs": [],
   "source": [
    "d = 18.4 #em metros\n",
    "v = 160/3.6 #transformando km/h em m/s"
   ]
  },
  {
   "cell_type": "code",
   "execution_count": 9,
   "id": "6b1ae5ee",
   "metadata": {},
   "outputs": [
    {
     "data": {
      "text/latex": [
       "$\\displaystyle 0.414$"
      ],
      "text/plain": [
       "0.414000000000000"
      ]
     },
     "metadata": {},
     "output_type": "display_data"
    }
   ],
   "source": [
    "eq = Eq(t,d/v) # reescrevendo a equação ja isolado o tempo em uma variavel\n",
    "tempo = solve(eq,t) #subistituindo os valores\n",
    "display(tempo[0])"
   ]
  },
  {
   "cell_type": "code",
   "execution_count": 10,
   "id": "31f11f3a",
   "metadata": {},
   "outputs": [
    {
     "name": "stdout",
     "output_type": "stream",
     "text": [
      "O tempo necessario é: 0.41 segundos\n"
     ]
    }
   ],
   "source": [
    "print(f\"O tempo necessario é: {tempo[0]:.2f} segundos\")"
   ]
  },
  {
   "cell_type": "code",
   "execution_count": null,
   "id": "eee97f19",
   "metadata": {},
   "outputs": [],
   "source": []
  },
  {
   "cell_type": "code",
   "execution_count": null,
   "id": "81792db5",
   "metadata": {},
   "outputs": [],
   "source": []
  }
 ],
 "metadata": {
  "kernelspec": {
   "display_name": "Python 3 (ipykernel)",
   "language": "python",
   "name": "python3"
  },
  "language_info": {
   "codemirror_mode": {
    "name": "ipython",
    "version": 3
   },
   "file_extension": ".py",
   "mimetype": "text/x-python",
   "name": "python",
   "nbconvert_exporter": "python",
   "pygments_lexer": "ipython3",
   "version": "3.9.13"
  },
  "toc": {
   "base_numbering": 1,
   "nav_menu": {},
   "number_sections": true,
   "sideBar": true,
   "skip_h1_title": false,
   "title_cell": "Table of Contents",
   "title_sidebar": "Contents",
   "toc_cell": false,
   "toc_position": {},
   "toc_section_display": true,
   "toc_window_display": false
  }
 },
 "nbformat": 4,
 "nbformat_minor": 5
}
