{
 "cells": [
  {
   "cell_type": "markdown",
   "id": "04de55f2",
   "metadata": {},
   "source": [
    "O limite de velocidade em uma rodovia passa de 88,5 km/h para 105 km/h. Que tempo é economizado por quem viaja entre duas cidades ditantes 700 km e ligadas por essa rodovia, se a pessoa viajar com a velocidade maior?"
   ]
  },
  {
   "cell_type": "code",
   "execution_count": 1,
   "id": "df0b5c7e",
   "metadata": {},
   "outputs": [],
   "source": [
    "from sympy import *"
   ]
  },
  {
   "cell_type": "code",
   "execution_count": 4,
   "id": "6a5d612c",
   "metadata": {},
   "outputs": [
    {
     "data": {
      "text/latex": [
       "$\\displaystyle v = \\frac{d}{t}$"
      ],
      "text/plain": [
       "Eq(v, d/t)"
      ]
     },
     "metadata": {},
     "output_type": "display_data"
    },
    {
     "data": {
      "text/latex": [
       "$\\displaystyle t = \\frac{d}{v}$"
      ],
      "text/plain": [
       "Eq(t, d/v)"
      ]
     },
     "metadata": {},
     "output_type": "display_data"
    }
   ],
   "source": [
    "v,d,t = symbols('v,d,t') #criando os symbolos que iremos utilizar na equação\n",
    "\n",
    "display(Eq(v,d/t)) #demostração da equação\n",
    "\n",
    "tempo = Eq(t,d/v) #criando uma variavel com a equação isolando o tempo\n",
    "display(tempo) #demosntrando essa equação "
   ]
  },
  {
   "cell_type": "code",
   "execution_count": 5,
   "id": "be5ceb07",
   "metadata": {},
   "outputs": [],
   "source": [
    "v = 88.5 #km/h\n",
    "d = 700 #km"
   ]
  },
  {
   "cell_type": "code",
   "execution_count": 10,
   "id": "55f0efb1",
   "metadata": {},
   "outputs": [],
   "source": [
    "resposta = tempo.subs({d:700,v:88.5}) #ver essa parte depois"
   ]
  },
  {
   "cell_type": "code",
   "execution_count": 16,
   "id": "160ce0d8",
   "metadata": {},
   "outputs": [
    {
     "data": {
      "text/latex": [
       "$\\displaystyle 7.90960451977401$"
      ],
      "text/plain": [
       "7.90960451977401"
      ]
     },
     "metadata": {},
     "output_type": "display_data"
    }
   ],
   "source": [
    "display(solve(Eq(t,700/88.5))[0])"
   ]
  },
  {
   "cell_type": "code",
   "execution_count": 18,
   "id": "2517a7c0",
   "metadata": {},
   "outputs": [],
   "source": [
    "primeira_viagem = solve(Eq(t,700/88.5))[0]"
   ]
  },
  {
   "cell_type": "code",
   "execution_count": null,
   "id": "cf7ee877",
   "metadata": {},
   "outputs": [],
   "source": []
  },
  {
   "cell_type": "code",
   "execution_count": 19,
   "id": "597895bb",
   "metadata": {},
   "outputs": [
    {
     "data": {
      "text/latex": [
       "$\\displaystyle 6.66666666666667$"
      ],
      "text/plain": [
       "6.66666666666667"
      ]
     },
     "metadata": {},
     "output_type": "display_data"
    }
   ],
   "source": [
    "display(solve(Eq(t,700/105))[0])"
   ]
  },
  {
   "cell_type": "code",
   "execution_count": 21,
   "id": "5518912e",
   "metadata": {},
   "outputs": [],
   "source": [
    "segunda_viagem = solve(Eq(t,700/105))[0]"
   ]
  },
  {
   "cell_type": "code",
   "execution_count": 23,
   "id": "7825dade",
   "metadata": {},
   "outputs": [
    {
     "name": "stdout",
     "output_type": "stream",
     "text": [
      "A diferença é de 1.24 horas\n"
     ]
    }
   ],
   "source": [
    "print(f\"A diferença é de {(primeira_viagem - segunda_viagem):.2f} horas\")"
   ]
  },
  {
   "cell_type": "code",
   "execution_count": 24,
   "id": "77bd3002",
   "metadata": {},
   "outputs": [
    {
     "name": "stdout",
     "output_type": "stream",
     "text": [
      "A diferença é de 74.58 minutos\n"
     ]
    }
   ],
   "source": [
    "print(f\"A diferença é de {((primeira_viagem - segunda_viagem)*60):.2f} minutos\")"
   ]
  },
  {
   "cell_type": "code",
   "execution_count": null,
   "id": "31adc1a3",
   "metadata": {},
   "outputs": [],
   "source": []
  }
 ],
 "metadata": {
  "kernelspec": {
   "display_name": "Python 3 (ipykernel)",
   "language": "python",
   "name": "python3"
  },
  "language_info": {
   "codemirror_mode": {
    "name": "ipython",
    "version": 3
   },
   "file_extension": ".py",
   "mimetype": "text/x-python",
   "name": "python",
   "nbconvert_exporter": "python",
   "pygments_lexer": "ipython3",
   "version": "3.9.13"
  },
  "toc": {
   "base_numbering": 1,
   "nav_menu": {},
   "number_sections": true,
   "sideBar": true,
   "skip_h1_title": false,
   "title_cell": "Table of Contents",
   "title_sidebar": "Contents",
   "toc_cell": false,
   "toc_position": {},
   "toc_section_display": true,
   "toc_window_display": false
  }
 },
 "nbformat": 4,
 "nbformat_minor": 5
}
