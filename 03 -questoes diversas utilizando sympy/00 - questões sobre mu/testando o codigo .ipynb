{
 "cells": [
  {
   "cell_type": "code",
   "execution_count": 1,
   "id": "a0b52b63",
   "metadata": {},
   "outputs": [],
   "source": [
    "from movimentouniforme import movimento_uniforme"
   ]
  },
  {
   "cell_type": "code",
   "execution_count": 2,
   "id": "f1caa3aa",
   "metadata": {},
   "outputs": [
    {
     "name": "stdout",
     "output_type": "stream",
     "text": [
      "\n"
     ]
    },
    {
     "data": {
      "text/latex": [
       "$\\displaystyle Δt = \\frac{ΔS}{v_{m}}$"
      ],
      "text/plain": [
       "Eq(Δt, ΔS/v_m)"
      ]
     },
     "metadata": {},
     "output_type": "display_data"
    },
    {
     "name": "stdout",
     "output_type": "stream",
     "text": [
      "\n"
     ]
    },
    {
     "data": {
      "text/latex": [
       "$\\displaystyle Δt = \\frac{130m}{3m/s}$"
      ],
      "text/plain": [
       "Eq(Δt, 130m/3m/s)"
      ]
     },
     "metadata": {},
     "output_type": "display_data"
    },
    {
     "name": "stdout",
     "output_type": "stream",
     "text": [
      "\n"
     ]
    },
    {
     "data": {
      "text/latex": [
       "$\\displaystyle Δt = 43.3333333333333 s$"
      ],
      "text/plain": [
       "Eq(Δt, 43.3333333333333*s)"
      ]
     },
     "metadata": {},
     "output_type": "display_data"
    }
   ],
   "source": [
    "movimento_uniforme(res='tempo',SI='m/s',espaco=130,velocidade=3)"
   ]
  },
  {
   "cell_type": "code",
   "execution_count": 3,
   "id": "a8ef4f06",
   "metadata": {},
   "outputs": [
    {
     "name": "stdout",
     "output_type": "stream",
     "text": [
      "\n"
     ]
    },
    {
     "data": {
      "text/latex": [
       "$\\displaystyle ΔS = v_{m} Δt$"
      ],
      "text/plain": [
       "Eq(ΔS, v_m*Δt)"
      ]
     },
     "metadata": {},
     "output_type": "display_data"
    },
    {
     "name": "stdout",
     "output_type": "stream",
     "text": [
      "\n"
     ]
    },
    {
     "data": {
      "text/latex": [
       "$\\displaystyle ΔS = 45s 4m/s$"
      ],
      "text/plain": [
       "Eq(ΔS, 45s*4m/s)"
      ]
     },
     "metadata": {},
     "output_type": "display_data"
    },
    {
     "name": "stdout",
     "output_type": "stream",
     "text": [
      "\n"
     ]
    },
    {
     "data": {
      "text/latex": [
       "$\\displaystyle ΔS = 180 m$"
      ],
      "text/plain": [
       "Eq(ΔS, 180*m)"
      ]
     },
     "metadata": {},
     "output_type": "display_data"
    }
   ],
   "source": [
    "movimento_uniforme(res='distancia',SI='m/s',tempo=45,velocidade=4)"
   ]
  },
  {
   "cell_type": "code",
   "execution_count": 4,
   "id": "7a9905a8",
   "metadata": {},
   "outputs": [
    {
     "name": "stdout",
     "output_type": "stream",
     "text": [
      "\n"
     ]
    },
    {
     "data": {
      "text/latex": [
       "$\\displaystyle v_{m} = \\frac{ΔS}{Δt}$"
      ],
      "text/plain": [
       "Eq(v_m, ΔS/Δt)"
      ]
     },
     "metadata": {},
     "output_type": "display_data"
    },
    {
     "name": "stdout",
     "output_type": "stream",
     "text": [
      "\n"
     ]
    },
    {
     "data": {
      "text/latex": [
       "$\\displaystyle v_{m} = \\frac{700km}{8h}$"
      ],
      "text/plain": [
       "Eq(v_m, 700km/8h)"
      ]
     },
     "metadata": {},
     "output_type": "display_data"
    },
    {
     "name": "stdout",
     "output_type": "stream",
     "text": [
      "\n"
     ]
    },
    {
     "data": {
      "text/latex": [
       "$\\displaystyle v_{m} = 87.5 km/h$"
      ],
      "text/plain": [
       "Eq(v_m, 87.5*km/h)"
      ]
     },
     "metadata": {},
     "output_type": "display_data"
    },
    {
     "name": "stdout",
     "output_type": "stream",
     "text": [
      "\n"
     ]
    }
   ],
   "source": [
    "movimento_uniforme(espaco=700,tempo=8)"
   ]
  },
  {
   "cell_type": "code",
   "execution_count": null,
   "id": "79cb1615",
   "metadata": {},
   "outputs": [],
   "source": []
  },
  {
   "cell_type": "code",
   "execution_count": null,
   "id": "68c8b713",
   "metadata": {},
   "outputs": [],
   "source": []
  },
  {
   "cell_type": "markdown",
   "id": "26171e9e",
   "metadata": {},
   "source": [
    "# (Unitau) Um carro mantém uma velocidade escalar constante de 72,0 km/h. Em uma hora e dez minutos ele percorre, em quilômetros, a distância de:\n"
   ]
  },
  {
   "cell_type": "markdown",
   "id": "d40329da",
   "metadata": {},
   "source": [
    "tempo = 1h mais 10 mim esse valor é equivalente a: 1.16 h\n",
    "velocidade = 72 km/h\n",
    "distancia = ?"
   ]
  },
  {
   "cell_type": "code",
   "execution_count": 5,
   "id": "2c475671",
   "metadata": {},
   "outputs": [
    {
     "data": {
      "text/plain": [
       "70"
      ]
     },
     "execution_count": 5,
     "metadata": {},
     "output_type": "execute_result"
    }
   ],
   "source": [
    "60 + 10"
   ]
  },
  {
   "cell_type": "code",
   "execution_count": 6,
   "id": "c03f14aa",
   "metadata": {},
   "outputs": [
    {
     "data": {
      "text/plain": [
       "1.1666666666666667"
      ]
     },
     "execution_count": 6,
     "metadata": {},
     "output_type": "execute_result"
    }
   ],
   "source": [
    "70 / 60"
   ]
  },
  {
   "cell_type": "code",
   "execution_count": 7,
   "id": "8f78a730",
   "metadata": {},
   "outputs": [
    {
     "name": "stdout",
     "output_type": "stream",
     "text": [
      "\n"
     ]
    },
    {
     "data": {
      "text/latex": [
       "$\\displaystyle ΔS = v_{m} Δt$"
      ],
      "text/plain": [
       "Eq(ΔS, v_m*Δt)"
      ]
     },
     "metadata": {},
     "output_type": "display_data"
    },
    {
     "name": "stdout",
     "output_type": "stream",
     "text": [
      "\n"
     ]
    },
    {
     "data": {
      "text/latex": [
       "$\\displaystyle ΔS = 1.16h 72km/h$"
      ],
      "text/plain": [
       "Eq(ΔS, 1.16h*72km/h)"
      ]
     },
     "metadata": {},
     "output_type": "display_data"
    },
    {
     "name": "stdout",
     "output_type": "stream",
     "text": [
      "\n"
     ]
    },
    {
     "data": {
      "text/latex": [
       "$\\displaystyle ΔS = 83.52 km$"
      ],
      "text/plain": [
       "Eq(ΔS, 83.52*km)"
      ]
     },
     "metadata": {},
     "output_type": "display_data"
    }
   ],
   "source": [
    "movimento_uniforme(res = 'distancia',SI = 'km/h',tempo=1.16,velocidade=72)"
   ]
  },
  {
   "cell_type": "code",
   "execution_count": null,
   "id": "98605d97",
   "metadata": {},
   "outputs": [],
   "source": []
  },
  {
   "cell_type": "code",
   "execution_count": null,
   "id": "d94b516e",
   "metadata": {},
   "outputs": [],
   "source": []
  },
  {
   "cell_type": "code",
   "execution_count": null,
   "id": "6d1336dd",
   "metadata": {},
   "outputs": [],
   "source": []
  },
  {
   "cell_type": "markdown",
   "id": "9bb62df4",
   "metadata": {},
   "source": [
    "# Um ciclista treina todos os dias em uma estrada no interior de uma cidade, seu treino diario é; percorre essa estrada que tem 1200 metros. Sabendo que ele sempre faz esse percuso em 80 mim, qual é a sua velocidade média?"
   ]
  },
  {
   "cell_type": "markdown",
   "id": "e989aded",
   "metadata": {},
   "source": [
    "distancia = 1200 metros\n",
    "tempo = 80x60 s\n",
    "velocidade = ?"
   ]
  },
  {
   "cell_type": "code",
   "execution_count": 9,
   "id": "bbfc117f",
   "metadata": {},
   "outputs": [
    {
     "name": "stdout",
     "output_type": "stream",
     "text": [
      "\n"
     ]
    },
    {
     "data": {
      "text/latex": [
       "$\\displaystyle v_{m} = \\frac{ΔS}{Δt}$"
      ],
      "text/plain": [
       "Eq(v_m, ΔS/Δt)"
      ]
     },
     "metadata": {},
     "output_type": "display_data"
    },
    {
     "name": "stdout",
     "output_type": "stream",
     "text": [
      "\n"
     ]
    },
    {
     "data": {
      "text/latex": [
       "$\\displaystyle v_{m} = \\frac{1200m}{4800s}$"
      ],
      "text/plain": [
       "Eq(v_m, 1200m/4800s)"
      ]
     },
     "metadata": {},
     "output_type": "display_data"
    },
    {
     "name": "stdout",
     "output_type": "stream",
     "text": [
      "\n"
     ]
    },
    {
     "data": {
      "text/latex": [
       "$\\displaystyle v_{m} = 0.25 m/s$"
      ],
      "text/plain": [
       "Eq(v_m, 0.25*m/s)"
      ]
     },
     "metadata": {},
     "output_type": "display_data"
    }
   ],
   "source": [
    "movimento_uniforme(res = 'velocidade',SI='m/s',espaco=1200,tempo=(80*60))"
   ]
  },
  {
   "cell_type": "code",
   "execution_count": null,
   "id": "97dfccdd",
   "metadata": {},
   "outputs": [],
   "source": []
  },
  {
   "cell_type": "code",
   "execution_count": null,
   "id": "ff12ebf3",
   "metadata": {},
   "outputs": [],
   "source": []
  }
 ],
 "metadata": {
  "kernelspec": {
   "display_name": "Python 3 (ipykernel)",
   "language": "python",
   "name": "python3"
  },
  "language_info": {
   "codemirror_mode": {
    "name": "ipython",
    "version": 3
   },
   "file_extension": ".py",
   "mimetype": "text/x-python",
   "name": "python",
   "nbconvert_exporter": "python",
   "pygments_lexer": "ipython3",
   "version": "3.9.13"
  },
  "toc": {
   "base_numbering": 1,
   "nav_menu": {},
   "number_sections": true,
   "sideBar": true,
   "skip_h1_title": false,
   "title_cell": "Table of Contents",
   "title_sidebar": "Contents",
   "toc_cell": false,
   "toc_position": {},
   "toc_section_display": true,
   "toc_window_display": false
  }
 },
 "nbformat": 4,
 "nbformat_minor": 5
}
