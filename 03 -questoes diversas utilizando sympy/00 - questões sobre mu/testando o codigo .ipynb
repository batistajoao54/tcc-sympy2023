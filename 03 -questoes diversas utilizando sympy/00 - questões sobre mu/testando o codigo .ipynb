{
 "cells": [
  {
   "cell_type": "code",
   "execution_count": 4,
   "id": "a0b52b63",
   "metadata": {},
   "outputs": [],
   "source": [
    "from sympy import*\n",
    "from movimentouniforme import movimento_uniforme"
   ]
  },
  {
   "cell_type": "code",
   "execution_count": 8,
   "id": "f1caa3aa",
   "metadata": {},
   "outputs": [
    {
     "data": {
      "text/latex": [
       "$\\displaystyle Δt = \\frac{ΔS}{v_{m}}$"
      ],
      "text/plain": [
       "Eq(Δt, ΔS/v_m)"
      ]
     },
     "metadata": {},
     "output_type": "display_data"
    },
    {
     "data": {
      "text/latex": [
       "$\\displaystyle Δt = \\frac{130m}{3m/s}$"
      ],
      "text/plain": [
       "Eq(Δt, 130m/3m/s)"
      ]
     },
     "metadata": {},
     "output_type": "display_data"
    },
    {
     "data": {
      "text/latex": [
       "$\\displaystyle Δt = 43.3333333333333 s$"
      ],
      "text/plain": [
       "Eq(Δt, 43.3333333333333*s)"
      ]
     },
     "metadata": {},
     "output_type": "display_data"
    }
   ],
   "source": [
    "movimento_uniforme(res='tempo',SI='m/s',espaco=130,velocidade=3)"
   ]
  },
  {
   "cell_type": "code",
   "execution_count": 9,
   "id": "a8ef4f06",
   "metadata": {},
   "outputs": [
    {
     "data": {
      "text/latex": [
       "$\\displaystyle ΔS = v_{m} Δt$"
      ],
      "text/plain": [
       "Eq(ΔS, v_m*Δt)"
      ]
     },
     "metadata": {},
     "output_type": "display_data"
    },
    {
     "data": {
      "text/latex": [
       "$\\displaystyle ΔS = 45s 4m/s$"
      ],
      "text/plain": [
       "Eq(ΔS, 45s*4m/s)"
      ]
     },
     "metadata": {},
     "output_type": "display_data"
    },
    {
     "data": {
      "text/latex": [
       "$\\displaystyle ΔS = 180 m$"
      ],
      "text/plain": [
       "Eq(ΔS, 180*m)"
      ]
     },
     "metadata": {},
     "output_type": "display_data"
    }
   ],
   "source": [
    "movimento_uniforme(res='distancia',SI='m/s',tempo=45,velocidade=4)"
   ]
  },
  {
   "cell_type": "code",
   "execution_count": 10,
   "id": "7a9905a8",
   "metadata": {},
   "outputs": [
    {
     "data": {
      "text/latex": [
       "$\\displaystyle v_{m} = \\frac{ΔS}{Δt}$"
      ],
      "text/plain": [
       "Eq(v_m, ΔS/Δt)"
      ]
     },
     "metadata": {},
     "output_type": "display_data"
    },
    {
     "data": {
      "text/latex": [
       "$\\displaystyle v_{m} = \\frac{700km}{8h}$"
      ],
      "text/plain": [
       "Eq(v_m, 700km/8h)"
      ]
     },
     "metadata": {},
     "output_type": "display_data"
    },
    {
     "data": {
      "text/latex": [
       "$\\displaystyle v_{m} = 87.5 km/h$"
      ],
      "text/plain": [
       "Eq(v_m, 87.5*km/h)"
      ]
     },
     "metadata": {},
     "output_type": "display_data"
    }
   ],
   "source": [
    "movimento_uniforme(espaco=700,tempo=8)"
   ]
  },
  {
   "cell_type": "code",
   "execution_count": null,
   "id": "79cb1615",
   "metadata": {},
   "outputs": [],
   "source": []
  },
  {
   "cell_type": "code",
   "execution_count": null,
   "id": "0fa00310",
   "metadata": {},
   "outputs": [],
   "source": []
  }
 ],
 "metadata": {
  "kernelspec": {
   "display_name": "Python 3 (ipykernel)",
   "language": "python",
   "name": "python3"
  },
  "language_info": {
   "codemirror_mode": {
    "name": "ipython",
    "version": 3
   },
   "file_extension": ".py",
   "mimetype": "text/x-python",
   "name": "python",
   "nbconvert_exporter": "python",
   "pygments_lexer": "ipython3",
   "version": "3.9.13"
  },
  "toc": {
   "base_numbering": 1,
   "nav_menu": {},
   "number_sections": true,
   "sideBar": true,
   "skip_h1_title": false,
   "title_cell": "Table of Contents",
   "title_sidebar": "Contents",
   "toc_cell": false,
   "toc_position": {},
   "toc_section_display": true,
   "toc_window_display": false
  }
 },
 "nbformat": 4,
 "nbformat_minor": 5
}
