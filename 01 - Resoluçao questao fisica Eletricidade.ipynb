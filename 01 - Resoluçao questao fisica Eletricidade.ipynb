{
 "cells": [
  {
   "cell_type": "markdown",
   "id": "2b7f273d",
   "metadata": {},
   "source": [
    "#### Uma amostra de ferro em forma de um paralelepipedo tem dmensões 1,2cm x 1,2cm x 1,5cm. Uma diferença de potenciais é aplicada à amostra entre as faces paralelas, de tal forma que as faces sao superficies equipotenciais. Determine a resistencia da amostra se as faces paralelas forem as estremidades quadradas (de dimensoes 1,2 cm X 1,2 cm)?  ρ = 9,8 x 10 ^-8 Ωm\n",
    "\n",
    "\n",
    "\n"
   ]
  },
  {
   "cell_type": "code",
   "execution_count": 39,
   "id": "addb968a",
   "metadata": {},
   "outputs": [],
   "source": [
    "\n",
    "from sympy import *\n"
   ]
  },
  {
   "cell_type": "code",
   "execution_count": 40,
   "id": "af587439",
   "metadata": {},
   "outputs": [],
   "source": [
    "#criandos os simbolos que iremos usar para essa questão\n",
    "R , L, A, ρ, Ω = symbols('R , L, A, ρ, Ω ')"
   ]
  },
  {
   "cell_type": "code",
   "execution_count": 48,
   "id": "b4c26e7c",
   "metadata": {},
   "outputs": [
    {
     "data": {
      "image/png": "[encoded data removed]",
      "text/latex": [
       "$\\displaystyle R = \\frac{L ρ}{A}$"
      ],
      "text/plain": [
       "    L⋅ρ\n",
       "R = ───\n",
       "     A "
      ]
     },
     "metadata": {},
     "output_type": "display_data"
    },
    {
     "data": {
      "image/png": "[encoded data removed]",
      "text/latex": [
       "$\\displaystyle R = \\frac{9.8 \\cdot 10^{-8} L}{A}$"
      ],
      "text/plain": [
       "    9.8e-8⋅L\n",
       "R = ────────\n",
       "       A    "
      ]
     },
     "metadata": {},
     "output_type": "display_data"
    },
    {
     "data": {
      "image/png": "[encoded data removed]",
      "text/latex": [
       "$\\displaystyle R = \\frac{1.47 \\cdot 10^{-9}}{A}$"
      ],
      "text/plain": [
       "    1.47e-9\n",
       "R = ───────\n",
       "       A   "
      ]
     },
     "metadata": {},
     "output_type": "display_data"
    },
    {
     "data": {
      "image/png": "[encoded data removed]",
      "text/latex": [
       "$\\displaystyle R = 1.02083333333333 \\cdot 10^{-5}$"
      ],
      "text/plain": [
       "R = 1.02083333333333e-5"
      ]
     },
     "metadata": {},
     "output_type": "display_data"
    },
    {
     "data": {
      "image/png": "[encoded data removed]",
      "text/latex": [
       "$\\displaystyle R = 1.02083333333333 \\cdot 10^{-5}$"
      ],
      "text/plain": [
       "R = 1.02083333333333e-5"
      ]
     },
     "metadata": {},
     "output_type": "display_data"
    }
   ],
   "source": [
    "#mostrando a equação que iremos utilizar\n",
    "eq = Eq(R,ρ*L/A)\n",
    "display(eq)\n",
    "\n",
    "#Subistituindo os valores nas letras uma por uma\n",
    "eq1 = eq.subs(ρ,9.8*10**-8)\n",
    "display(eq1)\n",
    "\n",
    "eq2 = eq1.subs(L,1.5*10**-2)\n",
    "display(eq2)\n",
    "\n",
    "eq3 = eq2.subs(A,(1.2*10**-2)**2)\n",
    "display(eq3)\n",
    "\n",
    "#ou posso subistituir todos de uma vez\n",
    "display(eq.subs({ρ:9.8*10**-8, L:1.5*10**-2, A:(1.2*10**-2)**2}))\n",
    "\n"
   ]
  },
  {
   "cell_type": "code",
   "execution_count": null,
   "id": "b4cef564",
   "metadata": {},
   "outputs": [],
   "source": [
    "\n"
   ]
  },
  {
   "cell_type": "code",
   "execution_count": null,
   "id": "ec0380ad",
   "metadata": {},
   "outputs": [],
   "source": []
  },
  {
   "cell_type": "code",
   "execution_count": null,
   "id": "3e57b7bf",
   "metadata": {},
   "outputs": [],
   "source": []
  },
  {
   "cell_type": "code",
   "execution_count": null,
   "id": "ac3e8b1a",
   "metadata": {},
   "outputs": [],
   "source": []
  },
  {
   "cell_type": "code",
   "execution_count": null,
   "id": "9148d92d",
   "metadata": {},
   "outputs": [],
   "source": []
  },
  {
   "cell_type": "code",
   "execution_count": null,
   "id": "df9c5803",
   "metadata": {},
   "outputs": [],
   "source": []
  },
  {
   "cell_type": "code",
   "execution_count": null,
   "id": "93964c1e",
   "metadata": {},
   "outputs": [],
   "source": []
  },
  {
   "cell_type": "code",
   "execution_count": null,
   "id": "f210aa32",
   "metadata": {},
   "outputs": [],
   "source": []
  },
  {
   "cell_type": "code",
   "execution_count": 60,
   "id": "78576ab7",
   "metadata": {},
   "outputs": [
    {
     "data": {
      "image/png": "[encoded data removed]",
      "text/latex": [
       "$\\displaystyle a_{1} a_{2}^{a_{3}}$"
      ],
      "text/plain": [
       "     a₃\n",
       "a₁⋅a₂  "
      ]
     },
     "execution_count": 60,
     "metadata": {},
     "output_type": "execute_result"
    }
   ],
   "source": [
    "a1,a2,a3= symbols('a1,a2,a3')\n",
    "a1*a2**a3"
   ]
  },
  {
   "cell_type": "code",
   "execution_count": null,
   "id": "ce076983",
   "metadata": {},
   "outputs": [],
   "source": []
  }
 ],
 "metadata": {
  "kernelspec": {
   "display_name": "Python 3 (ipykernel)",
   "language": "python",
   "name": "python3"
  },
  "language_info": {
   "codemirror_mode": {
    "name": "ipython",
    "version": 3
   },
   "file_extension": ".py",
   "mimetype": "text/x-python",
   "name": "python",
   "nbconvert_exporter": "python",
   "pygments_lexer": "ipython3",
   "version": "3.9.13"
  },
  "toc": {
   "base_numbering": 1,
   "nav_menu": {},
   "number_sections": true,
   "sideBar": true,
   "skip_h1_title": false,
   "title_cell": "Table of Contents",
   "title_sidebar": "Contents",
   "toc_cell": false,
   "toc_position": {},
   "toc_section_display": true,
   "toc_window_display": false
  }
 },
 "nbformat": 4,
 "nbformat_minor": 5
}
