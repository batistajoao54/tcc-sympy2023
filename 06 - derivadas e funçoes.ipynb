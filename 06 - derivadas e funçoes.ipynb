{
 "cells": [
  {
   "cell_type": "code",
   "execution_count": 1,
   "id": "8ff3e064",
   "metadata": {},
   "outputs": [],
   "source": [
    "from sympy import init_printing\n",
    "#init_printing(use_latex='png', scale=1.05, order='grlex',\n",
    "#              forecolor='Black', backcolor='White', fontsize=10)\n",
    "\n",
    "from sympy import diff, Symbol"
   ]
  },
  {
   "cell_type": "code",
   "execution_count": 2,
   "id": "2a5c4267",
   "metadata": {},
   "outputs": [
    {
     "name": "stdout",
     "output_type": "stream",
     "text": [
      "Funcao/equacao\n"
     ]
    },
    {
     "data": {
      "text/latex": [
       "$\\displaystyle x^{3}$"
      ],
      "text/plain": [
       "x**3"
      ]
     },
     "metadata": {},
     "output_type": "display_data"
    },
    {
     "name": "stdout",
     "output_type": "stream",
     "text": [
      "derivada\n"
     ]
    },
    {
     "data": {
      "text/latex": [
       "$\\displaystyle 3 x^{2}$"
      ],
      "text/plain": [
       "3*x**2"
      ]
     },
     "metadata": {},
     "output_type": "display_data"
    },
    {
     "name": "stdout",
     "output_type": "stream",
     "text": [
      "derivada segunda\n"
     ]
    },
    {
     "data": {
      "text/latex": [
       "$\\displaystyle 6 x$"
      ],
      "text/plain": [
       "6*x"
      ]
     },
     "metadata": {},
     "output_type": "display_data"
    },
    {
     "name": "stdout",
     "output_type": "stream",
     "text": [
      "derivada terceira\n"
     ]
    },
    {
     "data": {
      "text/latex": [
       "$\\displaystyle 6$"
      ],
      "text/plain": [
       "6"
      ]
     },
     "metadata": {},
     "output_type": "display_data"
    }
   ],
   "source": [
    "x = Symbol('x')\n",
    "f = x**3\n",
    "\n",
    "print('Funcao/equacao')\n",
    "display(f)\n",
    "\n",
    "print('derivada')\n",
    "display(diff(f, x))\n",
    "\n",
    "print('derivada segunda')\n",
    "display(diff(f, x, 2))\n",
    "\n",
    "print('derivada terceira')\n",
    "display(diff(f, x, 3))"
   ]
  },
  {
   "cell_type": "code",
   "execution_count": 3,
   "id": "2025e40f",
   "metadata": {},
   "outputs": [
    {
     "data": {
      "text/latex": [
       "$\\displaystyle x^{2} \\cos{\\left(x \\right)} + 2 x \\sin{\\left(x \\right)}$"
      ],
      "text/plain": [
       "x**2*cos(x) + 2*x*sin(x)"
      ]
     },
     "execution_count": 3,
     "metadata": {},
     "output_type": "execute_result"
    }
   ],
   "source": [
    "from sympy import sin, cos, exp\n",
    "\n",
    "# regra do produto\n",
    "diff(x**2 * sin(x), x)"
   ]
  },
  {
   "cell_type": "code",
   "execution_count": 4,
   "id": "05575b94",
   "metadata": {},
   "outputs": [
    {
     "data": {
      "text/latex": [
       "$\\displaystyle 2 x \\cos{\\left(x^{2} \\right)}$"
      ],
      "text/plain": [
       "2*x*cos(x**2)"
      ]
     },
     "execution_count": 4,
     "metadata": {},
     "output_type": "execute_result"
    }
   ],
   "source": [
    "# regra da cadeia\n",
    "diff(sin(x**2))"
   ]
  },
  {
   "cell_type": "code",
   "execution_count": 5,
   "id": "14ed89d0",
   "metadata": {},
   "outputs": [
    {
     "data": {
      "text/latex": [
       "$\\displaystyle - \\frac{x^{2} \\cos{\\left(x \\right)}}{\\sin^{2}{\\left(x \\right)}} + \\frac{2 x}{\\sin{\\left(x \\right)}}$"
      ],
      "text/plain": [
       "-x**2*cos(x)/sin(x)**2 + 2*x/sin(x)"
      ]
     },
     "execution_count": 5,
     "metadata": {},
     "output_type": "execute_result"
    }
   ],
   "source": [
    "# regra do quociente\n",
    "diff(x**2 / sin(x), x)"
   ]
  },
  {
   "cell_type": "code",
   "execution_count": 6,
   "id": "5eba87a0",
   "metadata": {},
   "outputs": [
    {
     "data": {
      "text/latex": [
       "$\\displaystyle - \\frac{x \\left(x \\cos{\\left(x \\right)} - 2 \\sin{\\left(x \\right)}\\right)}{\\sin^{2}{\\left(x \\right)}}$"
      ],
      "text/plain": [
       "-x*(x*cos(x) - 2*sin(x))/sin(x)**2"
      ]
     },
     "execution_count": 6,
     "metadata": {},
     "output_type": "execute_result"
    }
   ],
   "source": [
    "diff(x**2 / sin(x), x).factor()"
   ]
  },
  {
   "cell_type": "code",
   "execution_count": 7,
   "id": "37760d04",
   "metadata": {},
   "outputs": [
    {
     "data": {
      "text/latex": [
       "$\\displaystyle f{\\left(x \\right)}$"
      ],
      "text/plain": [
       "f(x)"
      ]
     },
     "execution_count": 7,
     "metadata": {},
     "output_type": "execute_result"
    }
   ],
   "source": [
    "from sympy import Function, dsolve, Eq\n",
    "f = Function('f')\n",
    "f(x)"
   ]
  },
  {
   "cell_type": "code",
   "execution_count": 8,
   "id": "afa54768",
   "metadata": {},
   "outputs": [
    {
     "data": {
      "text/latex": [
       "$\\displaystyle f{\\left(x \\right)} - \\frac{d}{d x} f{\\left(x \\right)} = 0$"
      ],
      "text/plain": [
       "Eq(f(x) - Derivative(f(x), x), 0)"
      ]
     },
     "execution_count": 8,
     "metadata": {},
     "output_type": "execute_result"
    }
   ],
   "source": [
    "eq_dif = Eq(f(x) - diff(f(x), x,1), 0)\n",
    "eq_dif"
   ]
  },
  {
   "cell_type": "code",
   "execution_count": 9,
   "id": "ac773545",
   "metadata": {},
   "outputs": [
    {
     "data": {
      "text/latex": [
       "$\\displaystyle f{\\left(x \\right)} = C_{1} e^{x}$"
      ],
      "text/plain": [
       "Eq(f(x), C1*exp(x))"
      ]
     },
     "execution_count": 9,
     "metadata": {},
     "output_type": "execute_result"
    }
   ],
   "source": [
    "#usando a funcao dsolve() colocamos a equação e fazemos referencia a quem ela deve ser resolvida\n",
    "dsolve(eq_dif, f(x))"
   ]
  },
  {
   "cell_type": "code",
   "execution_count": 10,
   "id": "66a3bec0",
   "metadata": {},
   "outputs": [
    {
     "data": {
      "text/latex": [
       "$\\displaystyle \\frac{x^{2}}{2}$"
      ],
      "text/plain": [
       "x**2/2"
      ]
     },
     "execution_count": 10,
     "metadata": {},
     "output_type": "execute_result"
    }
   ],
   "source": [
    "from sympy import S\n",
    "\n",
    "f = S('1/2')*x**2\n",
    "f"
   ]
  },
  {
   "cell_type": "code",
   "execution_count": 11,
   "id": "af34df87",
   "metadata": {},
   "outputs": [
    {
     "data": {
      "text/latex": [
       "$\\displaystyle x$"
      ],
      "text/plain": [
       "x"
      ]
     },
     "execution_count": 11,
     "metadata": {},
     "output_type": "execute_result"
    }
   ],
   "source": [
    "df = diff(f, x)\n",
    "df"
   ]
  },
  {
   "cell_type": "code",
   "execution_count": 12,
   "id": "ca049dd6",
   "metadata": {},
   "outputs": [
    {
     "data": {
      "text/latex": [
       "$\\displaystyle \\frac{x_{0}^{2}}{2} + x_{0} \\left(x - x_{0}\\right)$"
      ],
      "text/plain": [
       "x_0**2/2 + x_0*(x - x_0)"
      ]
     },
     "execution_count": 12,
     "metadata": {},
     "output_type": "execute_result"
    }
   ],
   "source": [
    "x0 = Symbol('x_0')\n",
    "T = f.subs({x: x0}) + df.subs({x: x0}) * (x - x0)\n",
    "T"
   ]
  },
  {
   "cell_type": "code",
   "execution_count": 13,
   "id": "491dc706",
   "metadata": {},
   "outputs": [
    {
     "data": {
      "text/latex": [
       "$\\displaystyle x - \\frac{1}{2}$"
      ],
      "text/plain": [
       "x - 1/2"
      ]
     },
     "execution_count": 13,
     "metadata": {},
     "output_type": "execute_result"
    }
   ],
   "source": [
    "T.subs({x0: 1})"
   ]
  },
  {
   "cell_type": "markdown",
   "id": "dd05ce62",
   "metadata": {},
   "source": [
    "# VISUALIZACAO NO GRAFICO"
   ]
  },
  {
   "cell_type": "code",
   "execution_count": 14,
   "id": "7fe93a5d",
   "metadata": {},
   "outputs": [
    {
     "data": {
      "image/png": "[encoded data removed]",
      "text/plain": [
       "<Figure size 800x600 with 1 Axes>"
      ]
     },
     "metadata": {},
     "output_type": "display_data"
    }
   ],
   "source": [
    "from sympy.plotting import plot\n",
    "import matplotlib.pyplot as plt\n",
    "\n",
    "\n",
    "def move_sympy_plot_to_axes(sympy_plot, plt_ax):\n",
    "    \"\"\"Moves a SymPy plot to a Matplotlib axes\n",
    "\n",
    "    Adapted from: https://stackoverflow.com/a/46813804/8706250\n",
    "\n",
    "    Parameters\n",
    "    ----------\n",
    "    sympy_plot : SymPy plot\n",
    "    plt_ax : Matplotlib axes\n",
    "    \"\"\"\n",
    "\n",
    "    backend = sympy_plot.backend(sympy_plot)\n",
    "    backend.ax = plt_ax\n",
    "    backend._process_series(backend.parent._series, plt_ax, backend.parent)\n",
    "    backend.ax.spines['right'].set_color('none')\n",
    "    backend.ax.spines['bottom'].set_position('zero')\n",
    "    backend.ax.spines['top'].set_color('none')\n",
    "    plt.close(backend.fig)\n",
    "\n",
    "\n",
    "fig, ax = plt.subplots(figsize=(8, 6))\n",
    "\n",
    "p1 = plot(f, (x, -3, 3), show=False, label=r'$f(x) = \\frac{1}{2}x^2$')\n",
    "p2 = plot(x-S('1/2'), (x, -3, 3), show=False, label=r\"$f'(x) = x - \\frac{1}{2}$\")\n",
    "\n",
    "move_sympy_plot_to_axes(p1, ax)\n",
    "move_sympy_plot_to_axes(p2, ax)\n",
    "\n",
    "ax.scatter(1, 1/2, color='red', label='Ponto (1, 1/2)')\n",
    "\n",
    "ax.set_title('Derivada como inclinação da reta tangente em um ponto \\n')\n",
    "ax.legend()\n",
    "\n",
    "plt.show()"
   ]
  },
  {
   "cell_type": "code",
   "execution_count": null,
   "id": "c1ea6443",
   "metadata": {},
   "outputs": [],
   "source": []
  },
  {
   "cell_type": "code",
   "execution_count": null,
   "id": "890a6c37",
   "metadata": {},
   "outputs": [],
   "source": []
  }
 ],
 "metadata": {
  "kernelspec": {
   "display_name": "Python 3 (ipykernel)",
   "language": "python",
   "name": "python3"
  },
  "language_info": {
   "codemirror_mode": {
    "name": "ipython",
    "version": 3
   },
   "file_extension": ".py",
   "mimetype": "text/x-python",
   "name": "python",
   "nbconvert_exporter": "python",
   "pygments_lexer": "ipython3",
   "version": "3.9.13"
  }
 },
 "nbformat": 4,
 "nbformat_minor": 5
}
