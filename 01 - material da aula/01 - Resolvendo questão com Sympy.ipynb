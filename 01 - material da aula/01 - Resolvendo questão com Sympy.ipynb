{
 "cells": [
  {
   "cell_type": "markdown",
   "id": "1450e674",
   "metadata": {
    "heading_collapsed": true
   },
   "source": [
    "### código utilizado"
   ]
  },
  {
   "cell_type": "code",
   "execution_count": null,
   "id": "c55f22ba",
   "metadata": {
    "hidden": true
   },
   "outputs": [],
   "source": [
    "from sympy import*"
   ]
  },
  {
   "cell_type": "code",
   "execution_count": null,
   "id": "4d258e81",
   "metadata": {
    "hidden": true
   },
   "outputs": [],
   "source": [
    "vm,Δs,Δt,kmh,mim,p = symbols('v_m,Δs,Δt,km/h,min,?(metros)')\n",
    "\n",
    "def coletando_dados(): #coletando os dados\n",
    "    display(Eq(vm,80*kmh))\n",
    "    display(Eq(Δt,90*mim))\n",
    "    display(Eq(Δs,p))\n",
    "    display(Eq(vm,Δs/Δt))\n",
    "\n",
    "def convertendo_dados(): #convertendo os dados para as grandezas do SI\n",
    "    km,ms,mim,s = symbols('80km/h,22.2m/s,90mim,5400s')\n",
    "    display(Eq(km,ms))\n",
    "    \n",
    "    display(Eq(mim,s))\n",
    "\n",
    "def resultado(n): #resolução da questão\n",
    "    if n == 0: #primeira parte\n",
    "        display(Eq(vm,Δs/Δt))\n",
    "        display(Eq(Δs,vm*Δt))\n",
    "    \n",
    "    if n == 1: #segunda parte\n",
    "        display(Eq(vm,Δs/Δt))\n",
    "        display(Eq(Δs,vm*Δt))\n",
    "        res = symbols('22.2*5400')\n",
    "        display(Eq(Δs,res))\n",
    "    \n",
    "    if n == 2: #terceira parte e resultado\n",
    "        m = symbols('m')\n",
    "        display(Eq(vm,Δs/Δt))\n",
    "        display(Eq(Δs,vm*Δt))\n",
    "        res = symbols('22.2*5400')\n",
    "        display(Eq(Δs,res))\n",
    "        display(Eq(Δs,22.2*5400*m))"
   ]
  },
  {
   "cell_type": "code",
   "execution_count": null,
   "id": "2d036e44",
   "metadata": {
    "hidden": true
   },
   "outputs": [],
   "source": []
  },
  {
   "cell_type": "code",
   "execution_count": null,
   "id": "b704dc0a",
   "metadata": {
    "hidden": true
   },
   "outputs": [],
   "source": []
  },
  {
   "cell_type": "markdown",
   "id": "6b83139e",
   "metadata": {},
   "source": [
    "# - Um veículo trafega em uma rodovia com velocidade média de 80 km/h. Sabendo que a viagem teve uma duração de 1 hora e 30 minutos, qual foi a distância em metros percorrida pelo veículo?"
   ]
  },
  {
   "cell_type": "code",
   "execution_count": 13,
   "id": "4a8d9f0f",
   "metadata": {},
   "outputs": [
    {
     "data": {
      "text/latex": [
       "$\\displaystyle v_{m} = 80 km/h$"
      ],
      "text/plain": [
       "Eq(v_m, 80*km/h)"
      ]
     },
     "metadata": {},
     "output_type": "display_data"
    },
    {
     "data": {
      "text/latex": [
       "$\\displaystyle Δt = 90 min$"
      ],
      "text/plain": [
       "Eq(Δt, 90*min)"
      ]
     },
     "metadata": {},
     "output_type": "display_data"
    },
    {
     "data": {
      "text/latex": [
       "$\\displaystyle Δs = ?(metros)$"
      ],
      "text/plain": [
       "Eq(Δs, ?(metros))"
      ]
     },
     "metadata": {},
     "output_type": "display_data"
    },
    {
     "data": {
      "text/latex": [
       "$\\displaystyle v_{m} = \\frac{Δs}{Δt}$"
      ],
      "text/plain": [
       "Eq(v_m, Δs/Δt)"
      ]
     },
     "metadata": {},
     "output_type": "display_data"
    }
   ],
   "source": [
    "coletando_dados()"
   ]
  },
  {
   "cell_type": "code",
   "execution_count": 14,
   "id": "98b846f9",
   "metadata": {},
   "outputs": [
    {
     "data": {
      "text/latex": [
       "$\\displaystyle 80km/h = 22.2m/s$"
      ],
      "text/plain": [
       "Eq(80km/h, 22.2m/s)"
      ]
     },
     "metadata": {},
     "output_type": "display_data"
    },
    {
     "data": {
      "text/latex": [
       "$\\displaystyle 90mim = 5400s$"
      ],
      "text/plain": [
       "Eq(90mim, 5400s)"
      ]
     },
     "metadata": {},
     "output_type": "display_data"
    }
   ],
   "source": [
    "convertendo_dados()"
   ]
  },
  {
   "cell_type": "code",
   "execution_count": 17,
   "id": "5e8c39ac",
   "metadata": {},
   "outputs": [
    {
     "data": {
      "text/latex": [
       "$\\displaystyle v_{m} = \\frac{Δs}{Δt}$"
      ],
      "text/plain": [
       "Eq(v_m, Δs/Δt)"
      ]
     },
     "metadata": {},
     "output_type": "display_data"
    },
    {
     "data": {
      "text/latex": [
       "$\\displaystyle Δs = v_{m} Δt$"
      ],
      "text/plain": [
       "Eq(Δs, v_m*Δt)"
      ]
     },
     "metadata": {},
     "output_type": "display_data"
    },
    {
     "data": {
      "text/latex": [
       "$\\displaystyle Δs = 22.2*5400$"
      ],
      "text/plain": [
       "Eq(Δs, 22.2*5400)"
      ]
     },
     "metadata": {},
     "output_type": "display_data"
    },
    {
     "data": {
      "text/latex": [
       "$\\displaystyle Δs = 119880.0 m$"
      ],
      "text/plain": [
       "Eq(Δs, 119880.0*m)"
      ]
     },
     "metadata": {},
     "output_type": "display_data"
    }
   ],
   "source": [
    "resultado(2)"
   ]
  },
  {
   "cell_type": "code",
   "execution_count": null,
   "id": "deea97a1",
   "metadata": {},
   "outputs": [],
   "source": []
  }
 ],
 "metadata": {
  "kernelspec": {
   "display_name": "Python 3 (ipykernel)",
   "language": "python",
   "name": "python3"
  },
  "language_info": {
   "codemirror_mode": {
    "name": "ipython",
    "version": 3
   },
   "file_extension": ".py",
   "mimetype": "text/x-python",
   "name": "python",
   "nbconvert_exporter": "python",
   "pygments_lexer": "ipython3",
   "version": "3.9.13"
  },
  "toc": {
   "base_numbering": 1,
   "nav_menu": {},
   "number_sections": true,
   "sideBar": true,
   "skip_h1_title": false,
   "title_cell": "Table of Contents",
   "title_sidebar": "Contents",
   "toc_cell": false,
   "toc_position": {},
   "toc_section_display": true,
   "toc_window_display": false
  }
 },
 "nbformat": 4,
 "nbformat_minor": 5
}
