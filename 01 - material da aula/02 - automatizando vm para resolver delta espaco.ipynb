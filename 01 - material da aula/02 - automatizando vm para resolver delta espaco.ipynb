{
 "cells": [
  {
   "cell_type": "markdown",
   "id": "5698867b",
   "metadata": {
    "heading_collapsed": true
   },
   "source": [
    "### codigo"
   ]
  },
  {
   "cell_type": "code",
   "execution_count": null,
   "id": "e2a04119",
   "metadata": {
    "hidden": true
   },
   "outputs": [],
   "source": [
    "from sympy import*"
   ]
  },
  {
   "cell_type": "code",
   "execution_count": null,
   "id": "63ae9980",
   "metadata": {
    "hidden": true
   },
   "outputs": [],
   "source": [
    "#criando uma funcao em que otimizaremos a resolucao de problemas que querem o espaço percorricom como resposta\n",
    "\n",
    "def espaco_percorrido(velocidade = 1,tempo=1,n=\"m/s\",p = 1): #funcao em que a resposta é Δs (metros)\n",
    "    \n",
    "    if n == \"m/s\":\n",
    "        print(\"Lembre-se de usar as medidas padrões do SI. (metros e segundos) tem tres partes de resolucao\")\n",
    "        #inicio do codigo onde irei trabalhar a expressao algebrica isolando Δs.\n",
    "        \n",
    "        if p == 1: #primeira parte\n",
    "            Δs,Δt,vm,ms,s,m = symbols('Δs,Δt,v_m,m/s,s,m')\n",
    "            print()\n",
    "            display(Eq(vm,Δs/Δt))\n",
    "            print()\n",
    "            display(Eq(vm*Δt,Δs))\n",
    "            print()\n",
    "            display(Eq(Δs,vm*Δt))\n",
    "            print()\n",
    "\n",
    "        #visualização dos dados em metros e segundos\n",
    "        if p == 2: #segunda parte\n",
    "            Δs,Δt,vm,ms,s,m = symbols('Δs,Δt,v_m,m/s,s,m')\n",
    "            print()\n",
    "            display(Eq(vm,Δs/Δt))\n",
    "            print()\n",
    "            display(Eq(vm*Δt,Δs))\n",
    "            print()\n",
    "            display(Eq(Δs,vm*Δt))\n",
    "            print()\n",
    "            \n",
    "            display(Eq(vm,velocidade*ms))\n",
    "            display(Eq(Δt,tempo*s))\n",
    "            print()\n",
    "\n",
    "        #substituindo os valores na equaçao ja isolado o Δs\n",
    "        if p == 3: #terceira parte\n",
    "            Δs,Δt,vm,ms,s,m = symbols('Δs,Δt,v_m,m/s,s,m')\n",
    "            print()\n",
    "            display(Eq(vm,Δs/Δt))\n",
    "            print()\n",
    "            display(Eq(vm*Δt,Δs))\n",
    "            print()\n",
    "            display(Eq(Δs,vm*Δt))\n",
    "            print()\n",
    "            \n",
    "            display(Eq(vm,velocidade*ms))\n",
    "            display(Eq(Δt,tempo*s))\n",
    "            print()\n",
    "            \n",
    "            res = symbols(f'{velocidade}m/s*{tempo}s')\n",
    "            display(Eq(Δs,res))\n",
    "            print()\n",
    "            display(Eq(Δs,velocidade*tempo*m))\n",
    "            print()\n",
    "    \n",
    "    if n == \"km/h\": #se a resposta exigir em km\n",
    "        print(\"Lembre-se de usar as medidas. (quilomentros e hora) tem tres partes\")\n",
    "        \n",
    "        if p == 1: #primeira parte\n",
    "            Δs,Δt,vm,ms,s,m = symbols('Δs,Δt,v_m,Km/h,h,km')\n",
    "            print()\n",
    "            display(Eq(vm,Δs/Δt))\n",
    "            print()\n",
    "            display(Eq(vm*Δt,Δs))\n",
    "            print()\n",
    "            display(Eq(Δs,vm*Δt))\n",
    "            print()\n",
    "\n",
    "        #visualização dos dados em metros e segundos\n",
    "        if p == 2: #segunda parte\n",
    "            Δs,Δt,vm,ms,s,m = symbols('Δs,Δt,v_m,Km/h,h,km')\n",
    "            print()\n",
    "            display(Eq(vm,Δs/Δt))\n",
    "            print()\n",
    "            display(Eq(vm*Δt,Δs))\n",
    "            print()\n",
    "            display(Eq(Δs,vm*Δt))\n",
    "            print()\n",
    "        \n",
    "            display(Eq(vm,velocidade*ms))\n",
    "            display(Eq(Δt,tempo*s))\n",
    "            print()\n",
    "\n",
    "        #substituindo os valores na equaçao ja isolado o Δs\n",
    "        if p==3: #terceira parte\n",
    "            Δs,Δt,vm,ms,s,m = symbols('Δs,Δt,v_m,Km/h,h,km')\n",
    "            print()\n",
    "            display(Eq(vm,Δs/Δt))\n",
    "            print()\n",
    "            display(Eq(vm*Δt,Δs))\n",
    "            print()\n",
    "            display(Eq(Δs,vm*Δt))\n",
    "            print()\n",
    "        \n",
    "            display(Eq(vm,velocidade*ms))\n",
    "            display(Eq(Δt,tempo*s))\n",
    "            print()\n",
    "            \n",
    "            res = symbols(f'{velocidade}km/h*{tempo}h')\n",
    "            display(Eq(Δs,res))\n",
    "            print()\n",
    "            display(Eq(Δs,velocidade*tempo*m))\n",
    "            print()\n",
    "            "
   ]
  },
  {
   "cell_type": "code",
   "execution_count": null,
   "id": "8badd122",
   "metadata": {
    "hidden": true
   },
   "outputs": [],
   "source": []
  },
  {
   "cell_type": "code",
   "execution_count": null,
   "id": "6b97ac14",
   "metadata": {
    "hidden": true
   },
   "outputs": [],
   "source": []
  },
  {
   "cell_type": "code",
   "execution_count": null,
   "id": "9d44a3ab",
   "metadata": {
    "hidden": true
   },
   "outputs": [],
   "source": []
  },
  {
   "cell_type": "markdown",
   "id": "04e296fe",
   "metadata": {},
   "source": [
    "# - Uma família viaja de São Paulo para o Rio de Janeiro, para passar as férias. A viagem tem uma duração de 6 horas com velocidade média de 72,5 km/h. Qual foi o espaço percorrido nessa viagem por essa familia?"
   ]
  },
  {
   "cell_type": "code",
   "execution_count": 91,
   "id": "7098106e",
   "metadata": {},
   "outputs": [
    {
     "name": "stdout",
     "output_type": "stream",
     "text": [
      "Lembre-se de usar as medidas. (quilomentros e hora) tem tres partes\n",
      "\n"
     ]
    },
    {
     "data": {
      "text/latex": [
       "$\\displaystyle v_{m} = \\frac{Δs}{Δt}$"
      ],
      "text/plain": [
       "Eq(v_m, Δs/Δt)"
      ]
     },
     "metadata": {},
     "output_type": "display_data"
    },
    {
     "name": "stdout",
     "output_type": "stream",
     "text": [
      "\n"
     ]
    },
    {
     "data": {
      "text/latex": [
       "$\\displaystyle v_{m} Δt = Δs$"
      ],
      "text/plain": [
       "Eq(v_m*Δt, Δs)"
      ]
     },
     "metadata": {},
     "output_type": "display_data"
    },
    {
     "name": "stdout",
     "output_type": "stream",
     "text": [
      "\n"
     ]
    },
    {
     "data": {
      "text/latex": [
       "$\\displaystyle Δs = v_{m} Δt$"
      ],
      "text/plain": [
       "Eq(Δs, v_m*Δt)"
      ]
     },
     "metadata": {},
     "output_type": "display_data"
    },
    {
     "name": "stdout",
     "output_type": "stream",
     "text": [
      "\n"
     ]
    },
    {
     "data": {
      "text/latex": [
       "$\\displaystyle v_{m} = 72.5 Km/h$"
      ],
      "text/plain": [
       "Eq(v_m, 72.5*Km/h)"
      ]
     },
     "metadata": {},
     "output_type": "display_data"
    },
    {
     "data": {
      "text/latex": [
       "$\\displaystyle Δt = 6 h$"
      ],
      "text/plain": [
       "Eq(Δt, 6*h)"
      ]
     },
     "metadata": {},
     "output_type": "display_data"
    },
    {
     "name": "stdout",
     "output_type": "stream",
     "text": [
      "\n"
     ]
    },
    {
     "data": {
      "text/latex": [
       "$\\displaystyle Δs = 72.5km/h*6h$"
      ],
      "text/plain": [
       "Eq(Δs, 72.5km/h*6h)"
      ]
     },
     "metadata": {},
     "output_type": "display_data"
    },
    {
     "name": "stdout",
     "output_type": "stream",
     "text": [
      "\n"
     ]
    },
    {
     "data": {
      "text/latex": [
       "$\\displaystyle Δs = 435.0 km$"
      ],
      "text/plain": [
       "Eq(Δs, 435.0*km)"
      ]
     },
     "metadata": {},
     "output_type": "display_data"
    },
    {
     "name": "stdout",
     "output_type": "stream",
     "text": [
      "\n"
     ]
    }
   ],
   "source": [
    "espaco_percorrido(72.5,6,n='km/h',p=3)"
   ]
  },
  {
   "cell_type": "code",
   "execution_count": null,
   "id": "5eff4058",
   "metadata": {},
   "outputs": [],
   "source": []
  },
  {
   "cell_type": "code",
   "execution_count": null,
   "id": "db274720",
   "metadata": {},
   "outputs": [],
   "source": []
  },
  {
   "cell_type": "code",
   "execution_count": null,
   "id": "99cb4f81",
   "metadata": {},
   "outputs": [],
   "source": []
  },
  {
   "cell_type": "code",
   "execution_count": null,
   "id": "d174a659",
   "metadata": {},
   "outputs": [],
   "source": []
  },
  {
   "cell_type": "markdown",
   "id": "7786a39e",
   "metadata": {
    "heading_collapsed": true
   },
   "source": [
    "# - Um automóvel parte de uma cidade. Duas horas depois de viagem com vocidade média 110 km/h, qual foi o espaço percorrido por esse automóvel?\n",
    "\n",
    "\n"
   ]
  },
  {
   "cell_type": "code",
   "execution_count": 88,
   "id": "b9f40634",
   "metadata": {
    "hidden": true
   },
   "outputs": [
    {
     "name": "stdout",
     "output_type": "stream",
     "text": [
      "Lembre-se de usar as medidas. (quilomentros e hora) tem tres partes\n",
      "\n"
     ]
    },
    {
     "data": {
      "text/latex": [
       "$\\displaystyle v_{m} = \\frac{Δs}{Δt}$"
      ],
      "text/plain": [
       "Eq(v_m, Δs/Δt)"
      ]
     },
     "metadata": {},
     "output_type": "display_data"
    },
    {
     "name": "stdout",
     "output_type": "stream",
     "text": [
      "\n"
     ]
    },
    {
     "data": {
      "text/latex": [
       "$\\displaystyle v_{m} Δt = Δs$"
      ],
      "text/plain": [
       "Eq(v_m*Δt, Δs)"
      ]
     },
     "metadata": {},
     "output_type": "display_data"
    },
    {
     "name": "stdout",
     "output_type": "stream",
     "text": [
      "\n"
     ]
    },
    {
     "data": {
      "text/latex": [
       "$\\displaystyle Δs = v_{m} Δt$"
      ],
      "text/plain": [
       "Eq(Δs, v_m*Δt)"
      ]
     },
     "metadata": {},
     "output_type": "display_data"
    },
    {
     "name": "stdout",
     "output_type": "stream",
     "text": [
      "\n"
     ]
    },
    {
     "data": {
      "text/latex": [
       "$\\displaystyle v_{m} = 110 Km/h$"
      ],
      "text/plain": [
       "Eq(v_m, 110*Km/h)"
      ]
     },
     "metadata": {},
     "output_type": "display_data"
    },
    {
     "data": {
      "text/latex": [
       "$\\displaystyle Δt = 2 h$"
      ],
      "text/plain": [
       "Eq(Δt, 2*h)"
      ]
     },
     "metadata": {},
     "output_type": "display_data"
    },
    {
     "name": "stdout",
     "output_type": "stream",
     "text": [
      "\n"
     ]
    },
    {
     "data": {
      "text/latex": [
       "$\\displaystyle Δs = 110km/h*2h$"
      ],
      "text/plain": [
       "Eq(Δs, 110km/h*2h)"
      ]
     },
     "metadata": {},
     "output_type": "display_data"
    },
    {
     "name": "stdout",
     "output_type": "stream",
     "text": [
      "\n"
     ]
    },
    {
     "data": {
      "text/latex": [
       "$\\displaystyle Δs = 220 km$"
      ],
      "text/plain": [
       "Eq(Δs, 220*km)"
      ]
     },
     "metadata": {},
     "output_type": "display_data"
    },
    {
     "name": "stdout",
     "output_type": "stream",
     "text": [
      "\n"
     ]
    }
   ],
   "source": [
    "espaco_percorrido(110,2,n=\"km/h\",p=3)"
   ]
  },
  {
   "cell_type": "code",
   "execution_count": null,
   "id": "c7c1df58",
   "metadata": {
    "hidden": true
   },
   "outputs": [],
   "source": []
  },
  {
   "cell_type": "code",
   "execution_count": null,
   "id": "ccc5fd49",
   "metadata": {
    "hidden": true
   },
   "outputs": [],
   "source": []
  },
  {
   "cell_type": "code",
   "execution_count": null,
   "id": "9243e20a",
   "metadata": {
    "hidden": true
   },
   "outputs": [],
   "source": []
  },
  {
   "cell_type": "markdown",
   "id": "cabce480",
   "metadata": {
    "heading_collapsed": true
   },
   "source": [
    "# - Um corredor a velocidade média de 12 m/s, percorre quando metros em 11 segundos?"
   ]
  },
  {
   "cell_type": "code",
   "execution_count": 89,
   "id": "257f7c14",
   "metadata": {
    "hidden": true
   },
   "outputs": [
    {
     "name": "stdout",
     "output_type": "stream",
     "text": [
      "Lembre-se de usar as medidas padrões do SI. (metros e segundos) tem tres partes de resolucao\n",
      "\n"
     ]
    },
    {
     "data": {
      "text/latex": [
       "$\\displaystyle v_{m} = \\frac{Δs}{Δt}$"
      ],
      "text/plain": [
       "Eq(v_m, Δs/Δt)"
      ]
     },
     "metadata": {},
     "output_type": "display_data"
    },
    {
     "name": "stdout",
     "output_type": "stream",
     "text": [
      "\n"
     ]
    },
    {
     "data": {
      "text/latex": [
       "$\\displaystyle v_{m} Δt = Δs$"
      ],
      "text/plain": [
       "Eq(v_m*Δt, Δs)"
      ]
     },
     "metadata": {},
     "output_type": "display_data"
    },
    {
     "name": "stdout",
     "output_type": "stream",
     "text": [
      "\n"
     ]
    },
    {
     "data": {
      "text/latex": [
       "$\\displaystyle Δs = v_{m} Δt$"
      ],
      "text/plain": [
       "Eq(Δs, v_m*Δt)"
      ]
     },
     "metadata": {},
     "output_type": "display_data"
    },
    {
     "name": "stdout",
     "output_type": "stream",
     "text": [
      "\n"
     ]
    },
    {
     "data": {
      "text/latex": [
       "$\\displaystyle v_{m} = 12 m/s$"
      ],
      "text/plain": [
       "Eq(v_m, 12*m/s)"
      ]
     },
     "metadata": {},
     "output_type": "display_data"
    },
    {
     "data": {
      "text/latex": [
       "$\\displaystyle Δt = 11 s$"
      ],
      "text/plain": [
       "Eq(Δt, 11*s)"
      ]
     },
     "metadata": {},
     "output_type": "display_data"
    },
    {
     "name": "stdout",
     "output_type": "stream",
     "text": [
      "\n"
     ]
    },
    {
     "data": {
      "text/latex": [
       "$\\displaystyle Δs = 12m/s*11s$"
      ],
      "text/plain": [
       "Eq(Δs, 12m/s*11s)"
      ]
     },
     "metadata": {},
     "output_type": "display_data"
    },
    {
     "name": "stdout",
     "output_type": "stream",
     "text": [
      "\n"
     ]
    },
    {
     "data": {
      "text/latex": [
       "$\\displaystyle Δs = 132 m$"
      ],
      "text/plain": [
       "Eq(Δs, 132*m)"
      ]
     },
     "metadata": {},
     "output_type": "display_data"
    },
    {
     "name": "stdout",
     "output_type": "stream",
     "text": [
      "\n"
     ]
    }
   ],
   "source": [
    "espaco_percorrido(12,11,p=3)"
   ]
  },
  {
   "cell_type": "code",
   "execution_count": null,
   "id": "2160afb5",
   "metadata": {
    "hidden": true
   },
   "outputs": [],
   "source": []
  },
  {
   "cell_type": "code",
   "execution_count": null,
   "id": "6c0b3864",
   "metadata": {
    "hidden": true
   },
   "outputs": [],
   "source": []
  },
  {
   "cell_type": "code",
   "execution_count": null,
   "id": "0d62e040",
   "metadata": {
    "hidden": true
   },
   "outputs": [],
   "source": []
  }
 ],
 "metadata": {
  "kernelspec": {
   "display_name": "Python 3 (ipykernel)",
   "language": "python",
   "name": "python3"
  },
  "language_info": {
   "codemirror_mode": {
    "name": "ipython",
    "version": 3
   },
   "file_extension": ".py",
   "mimetype": "text/x-python",
   "name": "python",
   "nbconvert_exporter": "python",
   "pygments_lexer": "ipython3",
   "version": "3.9.13"
  },
  "toc": {
   "base_numbering": 1,
   "nav_menu": {},
   "number_sections": true,
   "sideBar": true,
   "skip_h1_title": false,
   "title_cell": "Table of Contents",
   "title_sidebar": "Contents",
   "toc_cell": false,
   "toc_position": {},
   "toc_section_display": true,
   "toc_window_display": false
  }
 },
 "nbformat": 4,
 "nbformat_minor": 5
}
