{
 "cells": [
  {
   "cell_type": "markdown",
   "id": "b78e5e6c",
   "metadata": {},
   "source": [
    "### Codigo"
   ]
  },
  {
   "cell_type": "code",
   "execution_count": 1,
   "id": "8e718106",
   "metadata": {},
   "outputs": [],
   "source": [
    "from sympy import*"
   ]
  },
  {
   "cell_type": "code",
   "execution_count": 56,
   "id": "56fbc72e",
   "metadata": {},
   "outputs": [],
   "source": [
    "# site das letras gregas 'https://www.todamateria.com.br/alfabeto-grego/'\n",
    "\n",
    "#funções que irão representar as equações da cinemática\n",
    "\n",
    "def equação_mu(): #equações usadas no MU\n",
    "    Δs,Δt,vm,v,s,t,sf,si,tf,ti = symbols('Δs,Δt,v_m,v,s,t,s_f,s_i,t_f,t_i')\n",
    "    exp_geral = (Δs/Δt)\n",
    "    print(\"VELOCIDADE MÉDIA\")\n",
    "    display(Eq(vm,exp_geral))\n",
    "    \n",
    "    exp_delta = (sf-si)/(tf-ti)\n",
    "    display(Eq(vm,exp_delta))\n",
    "    \n",
    "    vt,s0 = symbols('vt,s_0')\n",
    "    exp_esquerdo = s0 + vt\n",
    "    print(\"EQUAÇÃO DA POSIÇÃO\")\n",
    "    display(Eq(s,exp_esquerdo))\n",
    "\n",
    "#equações do muv\n",
    "\n",
    "def velocidade_t(): #equação da velocidade em funcao do tempo\n",
    "    v0,v = symbols('Vo+at,V')\n",
    "    display(Eq(v,v0))\n",
    "    \n",
    "    S,So,Vo,a,t, = symbols('S,So,Vot,at__2,t')\n",
    "    exp = So + Vo + (a/2)\n",
    "    display(Eq(S,exp))\n",
    "    \n",
    "    Δs,vo = symbols('2aΔs,Vo')\n",
    "    exp1 = (vo**2) + Δs\n",
    "    display(Eq(v**2,exp1))\n",
    "\n",
    "    \n"
   ]
  },
  {
   "cell_type": "markdown",
   "id": "407ccb78",
   "metadata": {},
   "source": [
    "# EQUAÇÕES IMPORTANTES DE FÍSCA EM CINEMÁTICA"
   ]
  },
  {
   "cell_type": "markdown",
   "id": "26bcfe7c",
   "metadata": {},
   "source": [
    "## MRU velocidade é constante, logo a = zero"
   ]
  },
  {
   "cell_type": "code",
   "execution_count": 26,
   "id": "b64d320f",
   "metadata": {},
   "outputs": [
    {
     "name": "stdout",
     "output_type": "stream",
     "text": [
      "VELOCIDADE MÉDIA\n"
     ]
    },
    {
     "data": {
      "text/latex": [
       "$\\displaystyle v_{m} = \\frac{Δs}{Δt}$"
      ],
      "text/plain": [
       "Eq(v_m, Δs/Δt)"
      ]
     },
     "metadata": {},
     "output_type": "display_data"
    },
    {
     "data": {
      "text/latex": [
       "$\\displaystyle v_{m} = \\frac{s_{f} - s_{i}}{t_{f} - t_{i}}$"
      ],
      "text/plain": [
       "Eq(v_m, (s_f - s_i)/(t_f - t_i))"
      ]
     },
     "metadata": {},
     "output_type": "display_data"
    },
    {
     "name": "stdout",
     "output_type": "stream",
     "text": [
      "EQUAÇÃO DA POSIÇÃO\n"
     ]
    },
    {
     "data": {
      "text/latex": [
       "$\\displaystyle s = s_{0} + vt$"
      ],
      "text/plain": [
       "Eq(s, s_0 + vt)"
      ]
     },
     "metadata": {},
     "output_type": "display_data"
    }
   ],
   "source": [
    "equação_mu()"
   ]
  },
  {
   "cell_type": "markdown",
   "id": "528c44d0",
   "metadata": {},
   "source": [
    "## MRUV a ≠ zero"
   ]
  },
  {
   "cell_type": "code",
   "execution_count": 57,
   "id": "258a1f4f",
   "metadata": {},
   "outputs": [
    {
     "data": {
      "image/png": "[encoded data removed]",
      "text/latex": [
       "$\\displaystyle V = Vo+at$"
      ],
      "text/plain": [
       "V = Vo+at"
      ]
     },
     "metadata": {},
     "output_type": "display_data"
    },
    {
     "data": {
      "image/png": "[encoded data removed]",
      "text/latex": [
       "$\\displaystyle S = So + Vot + \\frac{at^{2}}{2}$"
      ],
      "text/plain": [
       "               at²\n",
       "S = So + Vot + ───\n",
       "                2 "
      ]
     },
     "metadata": {},
     "output_type": "display_data"
    },
    {
     "data": {
      "image/png": "[encoded data removed]",
      "text/latex": [
       "$\\displaystyle V^{2} = Vo^{2} + 2aΔs$"
      ],
      "text/plain": [
       " 2     2       \n",
       "V  = Vo  + 2aΔs"
      ]
     },
     "metadata": {},
     "output_type": "display_data"
    }
   ],
   "source": [
    "velocidade_t()"
   ]
  }
 ],
 "metadata": {
  "kernelspec": {
   "display_name": "Python 3 (ipykernel)",
   "language": "python",
   "name": "python3"
  },
  "language_info": {
   "codemirror_mode": {
    "name": "ipython",
    "version": 3
   },
   "file_extension": ".py",
   "mimetype": "text/x-python",
   "name": "python",
   "nbconvert_exporter": "python",
   "pygments_lexer": "ipython3",
   "version": "3.9.13"
  },
  "toc": {
   "base_numbering": 1,
   "nav_menu": {},
   "number_sections": true,
   "sideBar": true,
   "skip_h1_title": false,
   "title_cell": "Table of Contents",
   "title_sidebar": "Contents",
   "toc_cell": false,
   "toc_position": {},
   "toc_section_display": true,
   "toc_window_display": false
  }
 },
 "nbformat": 4,
 "nbformat_minor": 5
}
