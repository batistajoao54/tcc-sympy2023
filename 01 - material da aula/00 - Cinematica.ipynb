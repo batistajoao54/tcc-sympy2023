{
 "cells": [
  {
   "cell_type": "markdown",
   "id": "b78e5e6c",
   "metadata": {
    "heading_collapsed": true
   },
   "source": [
    "### Codigo"
   ]
  },
  {
   "cell_type": "code",
   "execution_count": null,
   "id": "8e718106",
   "metadata": {
    "hidden": true
   },
   "outputs": [],
   "source": [
    "from sympy import*"
   ]
  },
  {
   "cell_type": "code",
   "execution_count": null,
   "id": "ad6ca501",
   "metadata": {
    "hidden": true
   },
   "outputs": [],
   "source": [
    "vm,Δs,Δt,s0,s1,t1,t0,v,t,am,Δv,a,vf,vi = symbols('v_m,Δs,Δt,s_i,s_f,t_f,t_i,v,t,a_m,Δv,a,v_f,v_i')"
   ]
  },
  {
   "cell_type": "code",
   "execution_count": null,
   "id": "cef32333",
   "metadata": {
    "hidden": true
   },
   "outputs": [],
   "source": [
    "init_printing(order='grlex') \n",
    "\n",
    "# primeiro iremos construir funçoes para representar as equações da velocidade média\n",
    "\n",
    "def velocidade_media(): #equaçao velocidade media vm = Δs/Δt\n",
    "    for i in range(0,1):\n",
    "        print(\"\")\n",
    "    equacao = Eq(vm,(Δs/Δt))\n",
    "    display(equacao)\n",
    "    print('')\n",
    "\n",
    "def variacoes(): #variações dos deltas Δs = sf - si e Δt = tf - ti\n",
    "    for i in range(0,1):\n",
    "        print(\"\")\n",
    "    equacao = Eq(Δs,s1-s0)\n",
    "    equacao1 = Eq(Δt,t1-t0)\n",
    "    display(equacao, equacao1)\n",
    "    print('')\n",
    "\n",
    "def velocidade_media1(): #velocidade média subistituindo os valores das variações\n",
    "    for i in range(0,1):\n",
    "        print(\"\")\n",
    "    esquerdo = (s1-s0)/(t1-t0)\n",
    "    equacao = Eq(vm,esquerdo)\n",
    "    display(equacao)\n",
    "    print('')\n",
    "\n",
    "#Equações para representar as equações de Velocidade constante\n",
    "\n",
    "def velocidade_constante(): #igualdade entre velocidade media e velocidade constante\n",
    "    print()\n",
    "    igualdade = Eq(vm,v)\n",
    "    display(igualdade)\n",
    "    print()\n",
    "\n",
    "def velocidade_constante1(): #substituino vm por v\n",
    "    print()\n",
    "    esquerdo = (s1-s0)/(t1-t0)\n",
    "    equacao = Eq(v,esquerdo)\n",
    "    display(equacao)\n",
    "    print()\n",
    "\n",
    "def equacao_posicao(): #equação geral com velocidade constante e ti = zero, tf = t\n",
    "    print()\n",
    "    esquerdo = (s1-s0)/(t)\n",
    "    equacao = Eq(v,esquerdo)\n",
    "    display(equacao)\n",
    "    print()\n",
    "\n",
    "def passo_a_passo(): #passo a passo da equação até se tornar a equação da posicao\n",
    "    print()\n",
    "    esquerdo = (s1-s0)/(t)\n",
    "    equacao = Eq(v,esquerdo)\n",
    "    display(equacao)\n",
    "    print()\n",
    "    vt = symbols('vt')\n",
    "    display(Eq(vt,s1-s0))\n",
    "    print()\n",
    "    display(Eq(s1-s0,vt))\n",
    "    print()\n",
    "    display(Eq(s1,s0+vt))\n",
    "    print()\n",
    "\n",
    "def equacao_posicao1(): #equação da posicao\n",
    "    vt = symbols('vt')\n",
    "    print()\n",
    "    display(Eq(s1,s0+vt))\n",
    "    print()\n",
    "\n",
    "#equações da aceleração\n",
    "\n",
    "def aceleracao_media(): #equação da aceleração media\n",
    "    print()\n",
    "    display(Eq(am,Δv/Δt))\n",
    "    print()\n",
    "\n",
    "def variaçao_velocidade(): #demonstrando a variação de velocidae vf e vi\n",
    "    print()\n",
    "    equacao = Eq(Δv,vf-vi)\n",
    "    equacao1 = Eq(Δt,t1-t0)\n",
    "    display(equacao, equacao1)\n",
    "    print()\n",
    "\n",
    "    \n",
    "def aceleracao_media1(): #aceleracão media\n",
    "    print()\n",
    "    equacao1 = (vf-vi)/(t1-t0)\n",
    "    equacao = Eq(am,equacao1)\n",
    "    display(equacao)\n",
    "    print()\n",
    "\n",
    "    \n",
    "def aceleracao_constante(): #igualdade da aceleração media com a constante\n",
    "    print()\n",
    "    display(Eq(am,a))\n",
    "    print()\n",
    "\n",
    "def aceleracao_constante1(): #aceleracão constante\n",
    "    print()\n",
    "    equacao1 = (vf-vi)/(t1-t0)\n",
    "    equacao = Eq(a,equacao1)\n",
    "    display(equacao)\n",
    "    print()\n",
    "\n",
    "#funções horarias\n",
    "\n",
    "def velocidade_vt(): #velocidade em funcao do tempo\n",
    "    init_printing(order='grlex')\n",
    "    print()\n",
    "    at = symbols(\"vi+at\")\n",
    "    display(Eq(vf,at))\n",
    "    print()\n",
    "\n",
    "def passoapasso_va(): #passo a passo para chegar na equação da velocidade em funcao do tempo a = constante\n",
    "    print()\n",
    "    equacao1 = (vf-vi)/(t1-t0)\n",
    "    equacao = Eq(a,equacao1)\n",
    "    display(equacao)\n",
    "    print()\n",
    "    equacao2 = (vf-vi)/(t)\n",
    "    equacao3 = Eq(a,equacao2)\n",
    "    display(equacao3)\n",
    "    print()\n",
    "    at = symbols('at')\n",
    "    display(Eq(at,vf-vi))\n",
    "    print()\n",
    "    display(Eq(vf-vi,at))\n",
    "    print()\n",
    "    at2 = symbols(\"vi+at\")\n",
    "    display(Eq(vf,at2))\n",
    "    print()\n",
    "    \n",
    "def horaria_posicao(): #função horaria da posição\n",
    "    print()\n",
    "    init_printing(order='grevlex')\n",
    "    v0,s0,t,a,s =symbols('v0,s0,t,a,s')\n",
    "    equacao = s0 + (v0*t) + (a*t**2)/2\n",
    "    display(Eq(s,equacao))\n",
    "    print()\n",
    "\n",
    "def torricelli(): #equação Trricelli\n",
    "    init_printing(order='grlex')\n",
    "    print()\n",
    "    v0,v,a,Δs = symbols('v0,v,a,Δs')\n",
    "    display(Eq(v**2,v0**2+2*a*Δs))\n",
    "    print()"
   ]
  },
  {
   "cell_type": "code",
   "execution_count": null,
   "id": "ce36beac",
   "metadata": {
    "hidden": true
   },
   "outputs": [],
   "source": []
  },
  {
   "cell_type": "code",
   "execution_count": null,
   "id": "03d19b85",
   "metadata": {
    "hidden": true
   },
   "outputs": [],
   "source": []
  },
  {
   "cell_type": "code",
   "execution_count": null,
   "id": "8c6b939f",
   "metadata": {
    "hidden": true
   },
   "outputs": [],
   "source": []
  },
  {
   "cell_type": "markdown",
   "id": "d236971c",
   "metadata": {},
   "source": [
    "# Equações da cinematica "
   ]
  },
  {
   "cell_type": "markdown",
   "id": "5391301c",
   "metadata": {},
   "source": [
    "## VELOCIDADE MÉDIA"
   ]
  },
  {
   "cell_type": "code",
   "execution_count": 133,
   "id": "615a0c02",
   "metadata": {
    "scrolled": true
   },
   "outputs": [
    {
     "name": "stdout",
     "output_type": "stream",
     "text": [
      "\n"
     ]
    },
    {
     "data": {
      "image/png": "[encoded data removed]",
      "text/latex": [
       "$\\displaystyle v_{m} = \\frac{Δs}{Δt}$"
      ],
      "text/plain": [
       "     Δs\n",
       "vₘ = ──\n",
       "     Δt"
      ]
     },
     "metadata": {},
     "output_type": "display_data"
    },
    {
     "name": "stdout",
     "output_type": "stream",
     "text": [
      "\n"
     ]
    }
   ],
   "source": [
    "velocidade_media()"
   ]
  },
  {
   "cell_type": "code",
   "execution_count": 134,
   "id": "5ba7a529",
   "metadata": {},
   "outputs": [
    {
     "name": "stdout",
     "output_type": "stream",
     "text": [
      "\n"
     ]
    },
    {
     "data": {
      "image/png": "[encoded data removed]",
      "text/latex": [
       "$\\displaystyle Δs = s_{f} - s_{i}$"
      ],
      "text/plain": [
       "Δs = s_f - sᵢ"
      ]
     },
     "metadata": {},
     "output_type": "display_data"
    },
    {
     "data": {
      "image/png": "[encoded data removed]",
      "text/latex": [
       "$\\displaystyle Δt = t_{f} - t_{i}$"
      ],
      "text/plain": [
       "Δt = t_f - tᵢ"
      ]
     },
     "metadata": {},
     "output_type": "display_data"
    },
    {
     "name": "stdout",
     "output_type": "stream",
     "text": [
      "\n"
     ]
    }
   ],
   "source": [
    "variacoes()"
   ]
  },
  {
   "cell_type": "code",
   "execution_count": 135,
   "id": "7a8e1302",
   "metadata": {
    "scrolled": false
   },
   "outputs": [
    {
     "name": "stdout",
     "output_type": "stream",
     "text": [
      "\n"
     ]
    },
    {
     "data": {
      "image/png": "[encoded data removed]",
      "text/latex": [
       "$\\displaystyle v_{m} = \\frac{s_{f} - s_{i}}{t_{f} - t_{i}}$"
      ],
      "text/plain": [
       "     s_f - sᵢ\n",
       "vₘ = ────────\n",
       "     t_f - tᵢ"
      ]
     },
     "metadata": {},
     "output_type": "display_data"
    },
    {
     "name": "stdout",
     "output_type": "stream",
     "text": [
      "\n"
     ]
    }
   ],
   "source": [
    "velocidade_media1()"
   ]
  },
  {
   "cell_type": "markdown",
   "id": "893ce533",
   "metadata": {},
   "source": [
    "## VELOCIDADE CONSTANTE"
   ]
  },
  {
   "cell_type": "code",
   "execution_count": 136,
   "id": "94ccd172",
   "metadata": {},
   "outputs": [
    {
     "name": "stdout",
     "output_type": "stream",
     "text": [
      "\n"
     ]
    },
    {
     "data": {
      "image/png": "[encoded data removed]",
      "text/latex": [
       "$\\displaystyle v_{m} = v$"
      ],
      "text/plain": [
       "vₘ = v"
      ]
     },
     "metadata": {},
     "output_type": "display_data"
    },
    {
     "name": "stdout",
     "output_type": "stream",
     "text": [
      "\n"
     ]
    }
   ],
   "source": [
    "velocidade_constante()"
   ]
  },
  {
   "cell_type": "code",
   "execution_count": 137,
   "id": "98091590",
   "metadata": {},
   "outputs": [
    {
     "name": "stdout",
     "output_type": "stream",
     "text": [
      "\n"
     ]
    },
    {
     "data": {
      "image/png": "[encoded data removed]",
      "text/latex": [
       "$\\displaystyle v_{m} = \\frac{s_{f} - s_{i}}{t_{f} - t_{i}}$"
      ],
      "text/plain": [
       "     s_f - sᵢ\n",
       "vₘ = ────────\n",
       "     t_f - tᵢ"
      ]
     },
     "metadata": {},
     "output_type": "display_data"
    },
    {
     "name": "stdout",
     "output_type": "stream",
     "text": [
      "\n",
      "\n"
     ]
    },
    {
     "data": {
      "image/png": "[encoded data removed]",
      "text/latex": [
       "$\\displaystyle v = \\frac{s_{f} - s_{i}}{t_{f} - t_{i}}$"
      ],
      "text/plain": [
       "    s_f - sᵢ\n",
       "v = ────────\n",
       "    t_f - tᵢ"
      ]
     },
     "metadata": {},
     "output_type": "display_data"
    },
    {
     "name": "stdout",
     "output_type": "stream",
     "text": [
      "\n"
     ]
    }
   ],
   "source": [
    "velocidade_media1()\n",
    "velocidade_constante1()"
   ]
  },
  {
   "cell_type": "code",
   "execution_count": null,
   "id": "99fdb420",
   "metadata": {},
   "outputs": [],
   "source": []
  },
  {
   "cell_type": "markdown",
   "id": "a61d9b68",
   "metadata": {},
   "source": [
    "### Equação da posição, tf = t e ti = 0"
   ]
  },
  {
   "cell_type": "code",
   "execution_count": 138,
   "id": "808e71d9",
   "metadata": {},
   "outputs": [
    {
     "name": "stdout",
     "output_type": "stream",
     "text": [
      "\n"
     ]
    },
    {
     "data": {
      "image/png": "[encoded data removed]",
      "text/latex": [
       "$\\displaystyle v = \\frac{s_{f} - s_{i}}{t}$"
      ],
      "text/plain": [
       "    s_f - sᵢ\n",
       "v = ────────\n",
       "       t    "
      ]
     },
     "metadata": {},
     "output_type": "display_data"
    },
    {
     "name": "stdout",
     "output_type": "stream",
     "text": [
      "\n"
     ]
    }
   ],
   "source": [
    "equacao_posicao()"
   ]
  },
  {
   "cell_type": "code",
   "execution_count": 141,
   "id": "177b0bf7",
   "metadata": {},
   "outputs": [
    {
     "name": "stdout",
     "output_type": "stream",
     "text": [
      "\n"
     ]
    },
    {
     "data": {
      "image/png": "[encoded data removed]",
      "text/latex": [
       "$\\displaystyle v = \\frac{s_{f} - s_{i}}{t}$"
      ],
      "text/plain": [
       "    s_f - sᵢ\n",
       "v = ────────\n",
       "       t    "
      ]
     },
     "metadata": {},
     "output_type": "display_data"
    },
    {
     "name": "stdout",
     "output_type": "stream",
     "text": [
      "\n"
     ]
    },
    {
     "data": {
      "image/png": "[encoded data removed]",
      "text/latex": [
       "$\\displaystyle vt = s_{f} - s_{i}$"
      ],
      "text/plain": [
       "vt = s_f - sᵢ"
      ]
     },
     "metadata": {},
     "output_type": "display_data"
    },
    {
     "name": "stdout",
     "output_type": "stream",
     "text": [
      "\n"
     ]
    },
    {
     "data": {
      "image/png": "[encoded data removed]",
      "text/latex": [
       "$\\displaystyle s_{f} - s_{i} = vt$"
      ],
      "text/plain": [
       "s_f - sᵢ = vt"
      ]
     },
     "metadata": {},
     "output_type": "display_data"
    },
    {
     "name": "stdout",
     "output_type": "stream",
     "text": [
      "\n"
     ]
    },
    {
     "data": {
      "image/png": "[encoded data removed]",
      "text/latex": [
       "$\\displaystyle s_{f} = s_{i} + vt$"
      ],
      "text/plain": [
       "s_f = sᵢ + vt"
      ]
     },
     "metadata": {},
     "output_type": "display_data"
    },
    {
     "name": "stdout",
     "output_type": "stream",
     "text": [
      "\n"
     ]
    }
   ],
   "source": [
    "passo_a_passo()"
   ]
  },
  {
   "cell_type": "code",
   "execution_count": 140,
   "id": "ea2c4f93",
   "metadata": {},
   "outputs": [
    {
     "name": "stdout",
     "output_type": "stream",
     "text": [
      "\n"
     ]
    },
    {
     "data": {
      "image/png": "[encoded data removed]",
      "text/latex": [
       "$\\displaystyle s_{f} = s_{i} + vt$"
      ],
      "text/plain": [
       "s_f = sᵢ + vt"
      ]
     },
     "metadata": {},
     "output_type": "display_data"
    },
    {
     "name": "stdout",
     "output_type": "stream",
     "text": [
      "\n"
     ]
    }
   ],
   "source": [
    "equacao_posicao1()"
   ]
  },
  {
   "cell_type": "markdown",
   "id": "09f122bf",
   "metadata": {
    "heading_collapsed": true
   },
   "source": [
    "## ACELERAÇÃO MEDIA"
   ]
  },
  {
   "cell_type": "code",
   "execution_count": null,
   "id": "523837d9",
   "metadata": {
    "hidden": true
   },
   "outputs": [],
   "source": [
    "aceleracao_media()"
   ]
  },
  {
   "cell_type": "code",
   "execution_count": null,
   "id": "501a19a6",
   "metadata": {
    "hidden": true
   },
   "outputs": [],
   "source": [
    "variaçao_velocidade()"
   ]
  },
  {
   "cell_type": "code",
   "execution_count": null,
   "id": "ebab8923",
   "metadata": {
    "hidden": true
   },
   "outputs": [],
   "source": [
    "aceleracao_media1()"
   ]
  },
  {
   "cell_type": "markdown",
   "id": "7121fed0",
   "metadata": {
    "heading_collapsed": true
   },
   "source": [
    "## ACELERAÇAO CONSTANTE"
   ]
  },
  {
   "cell_type": "code",
   "execution_count": null,
   "id": "0f4a8811",
   "metadata": {
    "hidden": true
   },
   "outputs": [],
   "source": [
    "aceleracao_constante()"
   ]
  },
  {
   "cell_type": "code",
   "execution_count": null,
   "id": "4def9172",
   "metadata": {
    "hidden": true
   },
   "outputs": [],
   "source": [
    "aceleracao_media1()\n",
    "aceleracao_constante1()"
   ]
  },
  {
   "cell_type": "markdown",
   "id": "29d0b576",
   "metadata": {},
   "source": [
    "## FUNÇÕES HORARIAS"
   ]
  },
  {
   "cell_type": "markdown",
   "id": "74e31ec5",
   "metadata": {
    "heading_collapsed": true
   },
   "source": [
    "### Velocidade em função do tempo [v = f(t)]"
   ]
  },
  {
   "cell_type": "code",
   "execution_count": null,
   "id": "07ceb746",
   "metadata": {
    "hidden": true
   },
   "outputs": [],
   "source": [
    "velocidade_vt()"
   ]
  },
  {
   "cell_type": "code",
   "execution_count": null,
   "id": "7c369ac2",
   "metadata": {
    "hidden": true
   },
   "outputs": [],
   "source": [
    "passoapasso_va() #tf = t e ti = zero"
   ]
  },
  {
   "cell_type": "markdown",
   "id": "b3f11db9",
   "metadata": {
    "heading_collapsed": true
   },
   "source": [
    "### Posição em funcao do tempo [s = f(t)] e Torricelli"
   ]
  },
  {
   "cell_type": "code",
   "execution_count": null,
   "id": "d1c1cd27",
   "metadata": {
    "hidden": true
   },
   "outputs": [],
   "source": [
    "horaria_posicao()"
   ]
  },
  {
   "cell_type": "code",
   "execution_count": null,
   "id": "e7db3905",
   "metadata": {
    "hidden": true
   },
   "outputs": [],
   "source": [
    "torricelli()"
   ]
  },
  {
   "cell_type": "code",
   "execution_count": null,
   "id": "56fbc72e",
   "metadata": {
    "hidden": true
   },
   "outputs": [],
   "source": []
  },
  {
   "cell_type": "code",
   "execution_count": null,
   "id": "e16117d8",
   "metadata": {
    "hidden": true
   },
   "outputs": [],
   "source": []
  },
  {
   "cell_type": "code",
   "execution_count": null,
   "id": "75b90a57",
   "metadata": {
    "hidden": true
   },
   "outputs": [],
   "source": []
  },
  {
   "cell_type": "code",
   "execution_count": null,
   "id": "f954c19a",
   "metadata": {
    "hidden": true
   },
   "outputs": [],
   "source": []
  }
 ],
 "metadata": {
  "kernelspec": {
   "display_name": "Python 3 (ipykernel)",
   "language": "python",
   "name": "python3"
  },
  "language_info": {
   "codemirror_mode": {
    "name": "ipython",
    "version": 3
   },
   "file_extension": ".py",
   "mimetype": "text/x-python",
   "name": "python",
   "nbconvert_exporter": "python",
   "pygments_lexer": "ipython3",
   "version": "3.9.13"
  },
  "toc": {
   "base_numbering": 1,
   "nav_menu": {},
   "number_sections": true,
   "sideBar": true,
   "skip_h1_title": false,
   "title_cell": "Table of Contents",
   "title_sidebar": "Contents",
   "toc_cell": false,
   "toc_position": {},
   "toc_section_display": true,
   "toc_window_display": false
  }
 },
 "nbformat": 4,
 "nbformat_minor": 5
}
