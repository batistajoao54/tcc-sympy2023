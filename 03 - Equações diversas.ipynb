{
 "cells": [
  {
   "cell_type": "code",
   "execution_count": 1,
   "id": "1b460946",
   "metadata": {},
   "outputs": [],
   "source": [
    "#importando a biblioteca\n",
    "from sympy import *"
   ]
  },
  {
   "cell_type": "code",
   "execution_count": 36,
   "id": "49e1d73e",
   "metadata": {},
   "outputs": [],
   "source": [
    "#configurações para melhores saidas\n",
    "init_printing(use_latex='png', order='grlex', forecolor='Black', backcolor='White',scale=1.0,)\n",
    "\n",
    "#tbem podemos usara as seguintes configurações\n",
    "#sympy.init_printing(use_latex='png', scale=1.0, order='grlex',\n",
    "#                    forecolor='Black', backcolor='White',)"
   ]
  },
  {
   "cell_type": "code",
   "execution_count": 37,
   "id": "f3ef4d18",
   "metadata": {},
   "outputs": [],
   "source": [
    "#criando alguns simbolos\n",
    "x, y, a, b, c = symbols('x y a b c')"
   ]
  },
  {
   "cell_type": "code",
   "execution_count": 38,
   "id": "865bd6f8",
   "metadata": {},
   "outputs": [
    {
     "data": {
      "image/png": "[encoded data removed]",
      "text/plain": [
       " 2          \n",
       "x  + 2⋅x - 8"
      ]
     },
     "metadata": {},
     "output_type": "display_data"
    }
   ],
   "source": [
    "expr = x**2 + 2*x - 8\n",
    "display(expr)"
   ]
  },
  {
   "cell_type": "code",
   "execution_count": 39,
   "id": "e20d36bf",
   "metadata": {},
   "outputs": [
    {
     "data": {
      "image/png": "[encoded data removed]",
      "text/plain": [
       "[-4, 2]"
      ]
     },
     "metadata": {},
     "output_type": "display_data"
    }
   ],
   "source": [
    "#resolvendo essa equação achando as raizes\n",
    "display(solve(expr, x))"
   ]
  },
  {
   "cell_type": "code",
   "execution_count": 43,
   "id": "610c77b8",
   "metadata": {},
   "outputs": [
    {
     "data": {
      "image/png": "[encoded data removed]",
      "text/plain": [
       "⎡        _____________          _____________⎤\n",
       "⎢       ╱           2          ╱           2 ⎥\n",
       "⎢-b - ╲╱  -4⋅a⋅c + b    -b + ╲╱  -4⋅a⋅c + b  ⎥\n",
       "⎢─────────────────────, ─────────────────────⎥\n",
       "⎣         2⋅a                    2⋅a         ⎦"
      ]
     },
     "metadata": {},
     "output_type": "display_data"
    },
    {
     "data": {
      "image/png": "[encoded data removed]",
      "text/plain": [
       "        _____________\n",
       "       ╱           2 \n",
       "-b - ╲╱  -4⋅a⋅c + b  \n",
       "─────────────────────\n",
       "         2⋅a         "
      ]
     },
     "metadata": {},
     "output_type": "display_data"
    },
    {
     "data": {
      "image/png": "[encoded data removed]",
      "text/plain": [
       "        _____________\n",
       "       ╱           2 \n",
       "-b + ╲╱  -4⋅a⋅c + b  \n",
       "─────────────────────\n",
       "         2⋅a         "
      ]
     },
     "metadata": {},
     "output_type": "display_data"
    }
   ],
   "source": [
    "#mostrando o que o sympy pode fazer com os simbolos\n",
    "display(solve( a*x**2 + b*x + c, x))\n",
    "\n",
    "#mostrando os itens de cada raizes separado\n",
    "solutions = solve( a*x**2 + b*x + c, x)\n",
    "display(solutions[0])\n",
    "display(solutions[1])"
   ]
  },
  {
   "cell_type": "code",
   "execution_count": 45,
   "id": "c51cc2b2",
   "metadata": {},
   "outputs": [
    {
     "data": {
      "image/png": "[encoded data removed]",
      "text/plain": [
       " 2              \n",
       "x  + 2⋅x - 8 = 0"
      ]
     },
     "metadata": {},
     "output_type": "display_data"
    },
    {
     "name": "stdout",
     "output_type": "stream",
     "text": [
      "tbem podemos usar a funcao solver para resolver essa equação\n"
     ]
    },
    {
     "data": {
      "image/png": "[encoded data removed]",
      "text/plain": [
       "[-4, 2]"
      ]
     },
     "metadata": {},
     "output_type": "display_data"
    }
   ],
   "source": [
    "#podemos usar a funcao Eq() para igualar as equações\n",
    "equation = Eq(x**2 + 2*x - 8, 0)\n",
    "display(equation)\n",
    "print('tbem podemos usar a funcao solver para resolver essa equação')\n",
    "display(solve(equation, x))"
   ]
  },
  {
   "cell_type": "code",
   "execution_count": 46,
   "id": "6f4af634",
   "metadata": {},
   "outputs": [
    {
     "data": {
      "image/png": "[encoded data removed]",
      "text/plain": [
       "{x: 6/5, y: 9/5}"
      ]
     },
     "metadata": {},
     "output_type": "display_data"
    }
   ],
   "source": [
    "#podemos usar a função solver para resolver um sistema de equações\n",
    "eq1 = Eq(x + y, 3)\n",
    "eq2 = Eq(3*x - 2*y, 0)\n",
    "\n",
    "#basta separar as equações por parentese, o primeiro as equações o segundo as variaveis\n",
    "display(solve((eq1, eq2), (x, y)))\n",
    "\n",
    "#temos que ter cuidado pois numeros floats muitas vezes sao tratados de forma incorreta pelo python"
   ]
  },
  {
   "cell_type": "code",
   "execution_count": 47,
   "id": "26a27921",
   "metadata": {},
   "outputs": [],
   "source": [
    "h, k = symbols('h k')"
   ]
  },
  {
   "cell_type": "code",
   "execution_count": 53,
   "id": "8c29db3f",
   "metadata": {},
   "outputs": [
    {
     "data": {
      "image/png": "[encoded data removed]",
      "text/plain": [
       "   2                       2    \n",
       "a⋅x  + b⋅x + c = a⋅(-h + x)  + k"
      ]
     },
     "metadata": {},
     "output_type": "display_data"
    },
    {
     "name": "stdout",
     "output_type": "stream",
     "text": [
      "a resposta desse sistema (h, k) usando a funcao solver é:\n"
     ]
    },
    {
     "data": {
      "image/png": "[encoded data removed]",
      "text/plain": [
       "[(2, 3)]"
      ]
     },
     "metadata": {},
     "output_type": "display_data"
    },
    {
     "data": {
      "image/png": "[encoded data removed]",
      "text/plain": [
       "2"
      ]
     },
     "metadata": {},
     "output_type": "display_data"
    }
   ],
   "source": [
    "square = Eq(a * x**2 + b*x + c, a * (x - h)**2 + k)\n",
    "display(square)\n",
    "\n",
    "print('a resposta desse sistema (h, k) usando a funcao solver é:')\n",
    "\n",
    "square_example = Eq(x**2 - 4*x + 7, (x - h)**2 + k)\n",
    "display(solve(square_example, (h, k)))\n",
    "\n",
    "#caso queira o valor de uma unica variavel \"h\":\n",
    "display(solve(square_example, (h, k))[0][0])"
   ]
  },
  {
   "cell_type": "code",
   "execution_count": null,
   "id": "47ed40c9",
   "metadata": {},
   "outputs": [],
   "source": []
  },
  {
   "cell_type": "code",
   "execution_count": null,
   "id": "746513c2",
   "metadata": {},
   "outputs": [],
   "source": []
  },
  {
   "cell_type": "code",
   "execution_count": null,
   "id": "5f6eadad",
   "metadata": {},
   "outputs": [],
   "source": []
  },
  {
   "cell_type": "code",
   "execution_count": null,
   "id": "166de9d3",
   "metadata": {},
   "outputs": [],
   "source": []
  },
  {
   "cell_type": "code",
   "execution_count": null,
   "id": "dec3b36d",
   "metadata": {},
   "outputs": [],
   "source": []
  }
 ],
 "metadata": {
  "kernelspec": {
   "display_name": "Python 3 (ipykernel)",
   "language": "python",
   "name": "python3"
  },
  "language_info": {
   "codemirror_mode": {
    "name": "ipython",
    "version": 3
   },
   "file_extension": ".py",
   "mimetype": "text/x-python",
   "name": "python",
   "nbconvert_exporter": "python",
   "pygments_lexer": "ipython3",
   "version": "3.9.13"
  }
 },
 "nbformat": 4,
 "nbformat_minor": 5
}
