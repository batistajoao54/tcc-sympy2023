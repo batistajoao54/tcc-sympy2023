{
 "cells": [
  {
   "cell_type": "code",
   "execution_count": 1,
   "id": "f32bf410",
   "metadata": {},
   "outputs": [],
   "source": [
    "#importando a biblioteca que iremos usar\n",
    "from sympy import *"
   ]
  },
  {
   "cell_type": "code",
   "execution_count": 2,
   "id": "cec46646",
   "metadata": {
    "scrolled": false
   },
   "outputs": [],
   "source": [
    "#melhorando a saida do codigo\n",
    "#init_printing(use_latex='png', scale=1.0, order='grlex',forecolor='Black', backcolor='White',)"
   ]
  },
  {
   "cell_type": "code",
   "execution_count": 3,
   "id": "a99241c4",
   "metadata": {},
   "outputs": [],
   "source": [
    "#criando alguns simbolos\n",
    "x, y, a, b, c, d, n = symbols('x y a b c d n')"
   ]
  },
  {
   "cell_type": "code",
   "execution_count": 4,
   "id": "f16445ff",
   "metadata": {},
   "outputs": [
    {
     "data": {
      "text/latex": [
       "$\\displaystyle \\frac{a}{b} + \\frac{c}{d}$"
      ],
      "text/plain": [
       "a/b + c/d"
      ]
     },
     "execution_count": 4,
     "metadata": {},
     "output_type": "execute_result"
    }
   ],
   "source": [
    "#representando uma soma de fração\n",
    "a/b + c/d"
   ]
  },
  {
   "cell_type": "code",
   "execution_count": 5,
   "id": "834b639b",
   "metadata": {},
   "outputs": [
    {
     "data": {
      "text/latex": [
       "$\\displaystyle \\frac{a d + b c}{b d}$"
      ],
      "text/plain": [
       "(a*d + b*c)/(b*d)"
      ]
     },
     "execution_count": 5,
     "metadata": {},
     "output_type": "execute_result"
    }
   ],
   "source": [
    "#usando a função 'together()' para força a soma desssa fração\n",
    "together(_)\n",
    "#lembrando o '_' é uma forma de pedir que o programa utilize o resultado da celula acima"
   ]
  },
  {
   "cell_type": "code",
   "execution_count": 7,
   "id": "1b4b3d7f",
   "metadata": {},
   "outputs": [
    {
     "data": {
      "text/latex": [
       "$\\displaystyle \\frac{x^{2} + x + 4}{x + 2}$"
      ],
      "text/plain": [
       "(x**2 + x + 4)/(x + 2)"
      ]
     },
     "metadata": {},
     "output_type": "display_data"
    },
    {
     "name": "stdout",
     "output_type": "stream",
     "text": [
      "Sua forma mais simples no caso antes de fazer o mmc\n"
     ]
    },
    {
     "data": {
      "text/latex": [
       "$\\displaystyle x - 1 + \\frac{6}{x + 2}$"
      ],
      "text/plain": [
       "x - 1 + 6/(x + 2)"
      ]
     },
     "metadata": {},
     "output_type": "display_data"
    }
   ],
   "source": [
    "#se quisermos o contrario pegra uma equação final e transforma-la na expressão mais simples usamos\n",
    "#o a função 'apart()''\n",
    "display((x**2 + x + 4)/(x + 2))\n",
    "\n",
    "print('Sua forma mais simples no caso antes de fazer o mmc')\n",
    "\n",
    "display(apart((x**2 + x + 4)/(x + 2)))"
   ]
  },
  {
   "cell_type": "code",
   "execution_count": null,
   "id": "167689fe",
   "metadata": {},
   "outputs": [],
   "source": []
  },
  {
   "cell_type": "markdown",
   "id": "1587c3d7",
   "metadata": {},
   "source": [
    "# LONGARITMOS"
   ]
  },
  {
   "cell_type": "code",
   "execution_count": 9,
   "id": "1e8f5bfb",
   "metadata": {},
   "outputs": [
    {
     "data": {
      "text/latex": [
       "$\\displaystyle \\log{\\left(y \\right)}$"
      ],
      "text/plain": [
       "log(y)"
      ]
     },
     "metadata": {},
     "output_type": "display_data"
    },
    {
     "data": {
      "text/latex": [
       "$\\displaystyle \\log{\\left(x \\right)}$"
      ],
      "text/plain": [
       "log(x)"
      ]
     },
     "execution_count": 9,
     "metadata": {},
     "output_type": "execute_result"
    }
   ],
   "source": [
    "#representação com 'ln()' mais tbem funciona log()\n",
    "display(log(y))\n",
    "ln(x)"
   ]
  },
  {
   "cell_type": "code",
   "execution_count": 14,
   "id": "9c20a394",
   "metadata": {},
   "outputs": [
    {
     "data": {
      "text/latex": [
       "$\\displaystyle \\log{\\left(x y \\right)}$"
      ],
      "text/plain": [
       "log(x*y)"
      ]
     },
     "metadata": {},
     "output_type": "display_data"
    },
    {
     "data": {
      "text/latex": [
       "$\\displaystyle \\log{\\left(x \\right)} + \\log{\\left(y \\right)}$"
      ],
      "text/plain": [
       "log(x) + log(y)"
      ]
     },
     "metadata": {},
     "output_type": "display_data"
    }
   ],
   "source": [
    "display(log(x * y))\n",
    "\n",
    "#podemos força que esse logaritmo se apresente em uma de suas identidades\n",
    "display(expand_log(log(x * y), force=True))"
   ]
  },
  {
   "cell_type": "code",
   "execution_count": 16,
   "id": "08931c21",
   "metadata": {},
   "outputs": [
    {
     "data": {
      "text/latex": [
       "$\\displaystyle \\log{\\left(x^{n} \\right)}$"
      ],
      "text/plain": [
       "log(x**n)"
      ]
     },
     "metadata": {},
     "output_type": "display_data"
    },
    {
     "data": {
      "text/latex": [
       "$\\displaystyle n \\log{\\left(x \\right)}$"
      ],
      "text/plain": [
       "n*log(x)"
      ]
     },
     "metadata": {},
     "output_type": "display_data"
    }
   ],
   "source": [
    "display(log(x**n))\n",
    "\n",
    "#podemos força tbem\n",
    "display(expand_log(log(x**n), force=True))"
   ]
  },
  {
   "cell_type": "code",
   "execution_count": 17,
   "id": "1330c94d",
   "metadata": {},
   "outputs": [],
   "source": [
    "#mais nao precisamos força o codigo basta explicitar as condições dos simbolos\n",
    "x, y = symbols('x y', positive=True)\n",
    "n = symbols('n', real=True)"
   ]
  },
  {
   "cell_type": "code",
   "execution_count": 18,
   "id": "9e1e39bd",
   "metadata": {},
   "outputs": [
    {
     "data": {
      "text/latex": [
       "$\\displaystyle \\log{\\left(x \\right)} + \\log{\\left(y \\right)}$"
      ],
      "text/plain": [
       "log(x) + log(y)"
      ]
     },
     "metadata": {},
     "output_type": "display_data"
    }
   ],
   "source": [
    "display(expand_log(log(x * y)))"
   ]
  },
  {
   "cell_type": "code",
   "execution_count": 19,
   "id": "ecd628e4",
   "metadata": {},
   "outputs": [
    {
     "data": {
      "text/latex": [
       "$\\displaystyle n \\log{\\left(x \\right)}$"
      ],
      "text/plain": [
       "n*log(x)"
      ]
     },
     "metadata": {},
     "output_type": "display_data"
    }
   ],
   "source": [
    "display(expand_log(log(x**n)))"
   ]
  },
  {
   "cell_type": "code",
   "execution_count": null,
   "id": "afdf88e8",
   "metadata": {},
   "outputs": [],
   "source": []
  },
  {
   "cell_type": "markdown",
   "id": "c517ae0d",
   "metadata": {},
   "source": [
    "# Numero de Euler exponencial"
   ]
  },
  {
   "cell_type": "code",
   "execution_count": 20,
   "id": "bae8fc2a",
   "metadata": {},
   "outputs": [
    {
     "data": {
      "text/latex": [
       "$\\displaystyle e^{x}$"
      ],
      "text/plain": [
       "exp(x)"
      ]
     },
     "execution_count": 20,
     "metadata": {},
     "output_type": "execute_result"
    }
   ],
   "source": [
    "#usando a funçao 'exp()'\n",
    "exp(x)"
   ]
  },
  {
   "cell_type": "code",
   "execution_count": null,
   "id": "48cb896d",
   "metadata": {},
   "outputs": [],
   "source": []
  },
  {
   "cell_type": "code",
   "execution_count": null,
   "id": "b311f029",
   "metadata": {},
   "outputs": [],
   "source": []
  },
  {
   "cell_type": "code",
   "execution_count": null,
   "id": "95ea2ec5",
   "metadata": {},
   "outputs": [],
   "source": []
  },
  {
   "cell_type": "code",
   "execution_count": null,
   "id": "b6fab55f",
   "metadata": {},
   "outputs": [],
   "source": []
  },
  {
   "cell_type": "code",
   "execution_count": null,
   "id": "414993c5",
   "metadata": {},
   "outputs": [],
   "source": []
  },
  {
   "cell_type": "code",
   "execution_count": null,
   "id": "3831f92b",
   "metadata": {},
   "outputs": [],
   "source": []
  },
  {
   "cell_type": "code",
   "execution_count": null,
   "id": "c3997df7",
   "metadata": {},
   "outputs": [],
   "source": []
  },
  {
   "cell_type": "code",
   "execution_count": null,
   "id": "b146cd89",
   "metadata": {},
   "outputs": [],
   "source": []
  },
  {
   "cell_type": "code",
   "execution_count": null,
   "id": "f5cfcc7e",
   "metadata": {},
   "outputs": [],
   "source": []
  }
 ],
 "metadata": {
  "kernelspec": {
   "display_name": "Python 3 (ipykernel)",
   "language": "python",
   "name": "python3"
  },
  "language_info": {
   "codemirror_mode": {
    "name": "ipython",
    "version": 3
   },
   "file_extension": ".py",
   "mimetype": "text/x-python",
   "name": "python",
   "nbconvert_exporter": "python",
   "pygments_lexer": "ipython3",
   "version": "3.9.13"
  }
 },
 "nbformat": 4,
 "nbformat_minor": 5
}
