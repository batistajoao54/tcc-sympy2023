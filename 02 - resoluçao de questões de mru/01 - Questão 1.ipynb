{
 "cells": [
  {
   "cell_type": "markdown",
   "id": "d55690fd",
   "metadata": {},
   "source": [
    "# (Fuvest) Após chover na cidade de São Paulo, as águas da chuva descerão o rio Tietê até o rio Paraná, percorrendo cerca de 1.000km. Sendo de 4km/h a velocidade média das águas, o percurso mencionado será cumprido pelas águas da chuva em aproximadamente: \n",
    "\n",
    "(a)30 dias \n",
    "(b)10 dias \n",
    "(c)25 dias \n",
    "(d)2 dias \n",
    "(e)4 dias"
   ]
  },
  {
   "cell_type": "code",
   "execution_count": 16,
   "id": "01eecd39",
   "metadata": {},
   "outputs": [],
   "source": [
    "from sympy import*"
   ]
  },
  {
   "cell_type": "code",
   "execution_count": 17,
   "id": "ba5b88fd",
   "metadata": {},
   "outputs": [],
   "source": [
    "Δs,Δt,vm = symbols('Δs,Δt,v_m')"
   ]
  },
  {
   "cell_type": "code",
   "execution_count": 20,
   "id": "ac65e5a8",
   "metadata": {},
   "outputs": [
    {
     "data": {
      "text/latex": [
       "$\\displaystyle v_{m} = \\frac{Δs}{Δt}$"
      ],
      "text/plain": [
       "Eq(v_m, Δs/Δt)"
      ]
     },
     "execution_count": 20,
     "metadata": {},
     "output_type": "execute_result"
    }
   ],
   "source": [
    "equacao = Eq(vm,Δs/Δt)\n",
    "equacao"
   ]
  },
  {
   "cell_type": "code",
   "execution_count": 21,
   "id": "1c3a2227",
   "metadata": {},
   "outputs": [
    {
     "data": {
      "text/latex": [
       "$\\displaystyle Δt = \\frac{Δs}{v_{m}}$"
      ],
      "text/plain": [
       "Eq(Δt, Δs/v_m)"
      ]
     },
     "execution_count": 21,
     "metadata": {},
     "output_type": "execute_result"
    }
   ],
   "source": [
    "tempo = Eq(Δt,Δs/vm)\n",
    "tempo"
   ]
  },
  {
   "cell_type": "code",
   "execution_count": 22,
   "id": "f25e8b90",
   "metadata": {},
   "outputs": [
    {
     "data": {
      "text/latex": [
       "$\\displaystyle Δt = 250$"
      ],
      "text/plain": [
       "Eq(Δt, 250)"
      ]
     },
     "execution_count": 22,
     "metadata": {},
     "output_type": "execute_result"
    }
   ],
   "source": [
    "tempo.subs({Δs:1000,vm:4})"
   ]
  },
  {
   "cell_type": "code",
   "execution_count": 23,
   "id": "6030344d",
   "metadata": {},
   "outputs": [
    {
     "data": {
      "text/plain": [
       "10.416666666666666"
      ]
     },
     "execution_count": 23,
     "metadata": {},
     "output_type": "execute_result"
    }
   ],
   "source": [
    "250/24"
   ]
  },
  {
   "cell_type": "code",
   "execution_count": null,
   "id": "beadaf71",
   "metadata": {},
   "outputs": [],
   "source": []
  },
  {
   "cell_type": "code",
   "execution_count": null,
   "id": "d9a4863a",
   "metadata": {},
   "outputs": [],
   "source": []
  },
  {
   "cell_type": "code",
   "execution_count": null,
   "id": "692dd38f",
   "metadata": {},
   "outputs": [],
   "source": []
  },
  {
   "cell_type": "code",
   "execution_count": null,
   "id": "53d6264d",
   "metadata": {},
   "outputs": [],
   "source": []
  },
  {
   "cell_type": "markdown",
   "id": "e5c39f89",
   "metadata": {
    "heading_collapsed": true
   },
   "source": [
    "#### Bizu para pescar rsrsr"
   ]
  },
  {
   "cell_type": "code",
   "execution_count": null,
   "id": "0d693441",
   "metadata": {
    "hidden": true
   },
   "outputs": [],
   "source": [
    "vm,Δs,Δt = symbols('v_m,Δs,Δt')"
   ]
  },
  {
   "cell_type": "code",
   "execution_count": null,
   "id": "3fbb3a95",
   "metadata": {
    "hidden": true
   },
   "outputs": [],
   "source": [
    "equacao = Eq(vm,Δs/Δt)\n",
    "display(equacao)"
   ]
  },
  {
   "cell_type": "code",
   "execution_count": null,
   "id": "07ffaf12",
   "metadata": {
    "hidden": true
   },
   "outputs": [],
   "source": [
    "tempo = Eq(Δt,Δs/vm)\n",
    "display(tempo)"
   ]
  },
  {
   "cell_type": "code",
   "execution_count": null,
   "id": "34457f6c",
   "metadata": {
    "hidden": true
   },
   "outputs": [],
   "source": [
    "display(tempo.subs({Δs:1000,vm:4}))"
   ]
  },
  {
   "cell_type": "code",
   "execution_count": null,
   "id": "0aa3188b",
   "metadata": {
    "hidden": true
   },
   "outputs": [],
   "source": [
    "display(250/24)"
   ]
  },
  {
   "cell_type": "code",
   "execution_count": null,
   "id": "de24fa26",
   "metadata": {
    "hidden": true
   },
   "outputs": [],
   "source": []
  },
  {
   "cell_type": "code",
   "execution_count": null,
   "id": "faa42e20",
   "metadata": {
    "hidden": true
   },
   "outputs": [],
   "source": []
  },
  {
   "cell_type": "code",
   "execution_count": null,
   "id": "40352bab",
   "metadata": {
    "hidden": true
   },
   "outputs": [],
   "source": []
  },
  {
   "cell_type": "code",
   "execution_count": null,
   "id": "445a9b97",
   "metadata": {
    "hidden": true
   },
   "outputs": [],
   "source": []
  }
 ],
 "metadata": {
  "kernelspec": {
   "display_name": "Python 3 (ipykernel)",
   "language": "python",
   "name": "python3"
  },
  "language_info": {
   "codemirror_mode": {
    "name": "ipython",
    "version": 3
   },
   "file_extension": ".py",
   "mimetype": "text/x-python",
   "name": "python",
   "nbconvert_exporter": "python",
   "pygments_lexer": "ipython3",
   "version": "3.9.13"
  },
  "toc": {
   "base_numbering": 1,
   "nav_menu": {},
   "number_sections": true,
   "sideBar": true,
   "skip_h1_title": false,
   "title_cell": "Table of Contents",
   "title_sidebar": "Contents",
   "toc_cell": false,
   "toc_position": {},
   "toc_section_display": true,
   "toc_window_display": false
  }
 },
 "nbformat": 4,
 "nbformat_minor": 5
}
